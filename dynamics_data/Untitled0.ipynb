{
 "metadata": {
  "name": "",
  "signature": "sha256:9bf1fa67452659fdb7c85a36cddc25130a6b915b6a583f2ab450c6144525e553"
 },
 "nbformat": 3,
 "nbformat_minor": 0,
 "worksheets": [
  {
   "cells": [
    {
     "cell_type": "code",
     "collapsed": false,
     "input": [
      "run test_cmac.py"
     ],
     "language": "python",
     "metadata": {},
     "outputs": [
      {
       "output_type": "stream",
       "stream": "stderr",
       "text": [
        "ERROR: File `u'test_cmac.py'` not found.\n"
       ]
      }
     ],
     "prompt_number": 1
    },
    {
     "cell_type": "code",
     "collapsed": false,
     "input": [
      "!ls"
     ],
     "language": "python",
     "metadata": {},
     "outputs": [
      {
       "output_type": "stream",
       "stream": "stdout",
       "text": [
        "dynamics_walk1.mat  dynamics_walk3.mat\tdynamics_walk5.mat\r\n",
        "dynamics_walk2.mat  dynamics_walk4.mat\tUntitled0.ipynb\r\n"
       ]
      }
     ],
     "prompt_number": 2
    },
    {
     "cell_type": "code",
     "collapsed": false,
     "input": [],
     "language": "python",
     "metadata": {},
     "outputs": []
    }
   ],
   "metadata": {}
  }
 ]
}