{
 "metadata": {
  "name": "",
  "signature": "sha256:adbef9d41819efde3215fe6e041779ff1d27d50c9cf4e534cec8a0305e2e0690"
 },
 "nbformat": 3,
 "nbformat_minor": 0,
 "worksheets": [
  {
   "cells": [
    {
     "cell_type": "code",
     "collapsed": false,
     "input": [
      "%load_ext autoreload"
     ],
     "language": "python",
     "metadata": {},
     "outputs": [],
     "prompt_number": 1
    },
    {
     "cell_type": "code",
     "collapsed": false,
     "input": [
      "%aimport cmac"
     ],
     "language": "python",
     "metadata": {},
     "outputs": [],
     "prompt_number": 2
    },
    {
     "cell_type": "code",
     "collapsed": false,
     "input": [
      "%aimport test_cmac"
     ],
     "language": "python",
     "metadata": {},
     "outputs": [],
     "prompt_number": 3
    },
    {
     "cell_type": "code",
     "collapsed": false,
     "input": [
      "%aimport gait_loader"
     ],
     "language": "python",
     "metadata": {},
     "outputs": [],
     "prompt_number": 4
    },
    {
     "cell_type": "code",
     "collapsed": false,
     "input": [
      "%aimport test_gait_loader"
     ],
     "language": "python",
     "metadata": {},
     "outputs": [],
     "prompt_number": 5
    },
    {
     "cell_type": "code",
     "collapsed": false,
     "input": [
      "%autoreload 1"
     ],
     "language": "python",
     "metadata": {},
     "outputs": [],
     "prompt_number": 6
    },
    {
     "cell_type": "code",
     "collapsed": false,
     "input": [
      "run -m unittest discover"
     ],
     "language": "python",
     "metadata": {},
     "outputs": [
      {
       "output_type": "stream",
       "stream": "stderr",
       "text": [
        "."
       ]
      },
      {
       "output_type": "stream",
       "stream": "stderr",
       "text": [
        "."
       ]
      },
      {
       "output_type": "stream",
       "stream": "stderr",
       "text": [
        "."
       ]
      },
      {
       "output_type": "stream",
       "stream": "stderr",
       "text": [
        "."
       ]
      },
      {
       "output_type": "stream",
       "stream": "stderr",
       "text": [
        "."
       ]
      },
      {
       "output_type": "stream",
       "stream": "stderr",
       "text": [
        "."
       ]
      },
      {
       "output_type": "stream",
       "stream": "stderr",
       "text": [
        "."
       ]
      },
      {
       "output_type": "stream",
       "stream": "stderr",
       "text": [
        "."
       ]
      },
      {
       "output_type": "stream",
       "stream": "stderr",
       "text": [
        "."
       ]
      },
      {
       "output_type": "stream",
       "stream": "stderr",
       "text": [
        "."
       ]
      },
      {
       "output_type": "stream",
       "stream": "stderr",
       "text": [
        "."
       ]
      },
      {
       "output_type": "stream",
       "stream": "stderr",
       "text": [
        "."
       ]
      },
      {
       "output_type": "stream",
       "stream": "stderr",
       "text": [
        "\n",
        "----------------------------------------------------------------------\n",
        "Ran 12 tests in 0.099s\n",
        "\n",
        "OK\n"
       ]
      }
     ],
     "prompt_number": 60
    },
    {
     "cell_type": "code",
     "collapsed": false,
     "input": [
      "run -d -m test_cmac"
     ],
     "language": "python",
     "metadata": {},
     "outputs": [
      {
       "output_type": "stream",
       "stream": "stdout",
       "text": [
        "Breakpoint 1 at /home/roberto/Documents/motus/test_cmac.py:1\n",
        "NOTE: Enter 'c' at the ipdb>  prompt to continue execution.\n",
        "> \u001b[1;32m/home/roberto/Documents/motus/test_cmac.py\u001b[0m(1)\u001b[0;36m<module>\u001b[1;34m()\u001b[0m\n",
        "\u001b[1;31m1\u001b[1;32m---> 1 \u001b[1;33m\u001b[1;32mimport\u001b[0m \u001b[0munittest\u001b[0m\u001b[1;33m\u001b[0m\u001b[0m\n",
        "\u001b[0m\u001b[1;32m      2 \u001b[1;33m\u001b[1;32mimport\u001b[0m \u001b[0mcmac\u001b[0m\u001b[1;33m\u001b[0m\u001b[0m\n",
        "\u001b[0m\u001b[1;32m      3 \u001b[1;33m\u001b[1;32mfrom\u001b[0m \u001b[0mnumpy\u001b[0m \u001b[1;32mimport\u001b[0m \u001b[1;33m*\u001b[0m\u001b[1;33m\u001b[0m\u001b[0m\n",
        "\u001b[0m\n"
       ]
      },
      {
       "name": "stdout",
       "output_type": "stream",
       "stream": "stdout",
       "text": [
        "ipdb> b cmac.py:72\n"
       ]
      },
      {
       "output_type": "stream",
       "stream": "stdout",
       "text": [
        "Breakpoint 2 at /home/roberto/Documents/motus/cmac.py:72\n"
       ]
      },
      {
       "name": "stdout",
       "output_type": "stream",
       "stream": "stdout",
       "text": [
        "ipdb> c\n"
       ]
      },
      {
       "output_type": "stream",
       "stream": "stderr",
       "text": [
        "."
       ]
      },
      {
       "output_type": "stream",
       "stream": "stdout",
       "text": [
        "> \u001b[1;32m/home/roberto/Documents/motus/cmac.py\u001b[0m(72)\u001b[0;36mrecode\u001b[1;34m()\u001b[0m\n",
        "\u001b[1;32m     71 \u001b[1;33m    \u001b[1;32mdef\u001b[0m \u001b[0mrecode\u001b[0m\u001b[1;33m(\u001b[0m\u001b[0mself\u001b[0m\u001b[1;33m,\u001b[0m \u001b[0minput_vector\u001b[0m\u001b[1;33m)\u001b[0m\u001b[1;33m:\u001b[0m\u001b[1;33m\u001b[0m\u001b[0m\n",
        "\u001b[0m\u001b[1;31m2\u001b[1;32m--> 72 \u001b[1;33m        \u001b[0mrecode_vector\u001b[0m \u001b[1;33m=\u001b[0m \u001b[1;33m[\u001b[0m\u001b[1;33m]\u001b[0m\u001b[1;33m\u001b[0m\u001b[0m\n",
        "\u001b[0m\u001b[1;32m     73 \u001b[1;33m        \u001b[0msens_values\u001b[0m \u001b[1;33m=\u001b[0m \u001b[1;33m[\u001b[0m\u001b[1;33m]\u001b[0m\u001b[1;33m\u001b[0m\u001b[0m\n",
        "\u001b[0m\n"
       ]
      },
      {
       "name": "stdout",
       "output_type": "stream",
       "stream": "stdout",
       "text": [
        "ipdb> n\n"
       ]
      },
      {
       "output_type": "stream",
       "stream": "stdout",
       "text": [
        "> \u001b[1;32m/home/roberto/Documents/motus/cmac.py\u001b[0m(73)\u001b[0;36mrecode\u001b[1;34m()\u001b[0m\n",
        "\u001b[1;31m2\u001b[1;32m    72 \u001b[1;33m        \u001b[0mrecode_vector\u001b[0m \u001b[1;33m=\u001b[0m \u001b[1;33m[\u001b[0m\u001b[1;33m]\u001b[0m\u001b[1;33m\u001b[0m\u001b[0m\n",
        "\u001b[0m\u001b[1;32m---> 73 \u001b[1;33m        \u001b[0msens_values\u001b[0m \u001b[1;33m=\u001b[0m \u001b[1;33m[\u001b[0m\u001b[1;33m]\u001b[0m\u001b[1;33m\u001b[0m\u001b[0m\n",
        "\u001b[0m\u001b[1;32m     74 \u001b[1;33m        \u001b[1;32mfor\u001b[0m \u001b[0mi\u001b[0m \u001b[1;32min\u001b[0m \u001b[0mrange\u001b[0m\u001b[1;33m(\u001b[0m\u001b[0mlen\u001b[0m\u001b[1;33m(\u001b[0m\u001b[0mself\u001b[0m\u001b[1;33m.\u001b[0m\u001b[0msensory_cell_configs\u001b[0m\u001b[1;33m)\u001b[0m\u001b[1;33m)\u001b[0m\u001b[1;33m:\u001b[0m\u001b[1;33m\u001b[0m\u001b[0m\n",
        "\u001b[0m\n"
       ]
      },
      {
       "name": "stdout",
       "output_type": "stream",
       "stream": "stdout",
       "text": [
        "ipdb> \n"
       ]
      },
      {
       "output_type": "stream",
       "stream": "stdout",
       "text": [
        "> \u001b[1;32m/home/roberto/Documents/motus/cmac.py\u001b[0m(74)\u001b[0;36mrecode\u001b[1;34m()\u001b[0m\n",
        "\u001b[1;32m     73 \u001b[1;33m        \u001b[0msens_values\u001b[0m \u001b[1;33m=\u001b[0m \u001b[1;33m[\u001b[0m\u001b[1;33m]\u001b[0m\u001b[1;33m\u001b[0m\u001b[0m\n",
        "\u001b[0m\u001b[1;32m---> 74 \u001b[1;33m        \u001b[1;32mfor\u001b[0m \u001b[0mi\u001b[0m \u001b[1;32min\u001b[0m \u001b[0mrange\u001b[0m\u001b[1;33m(\u001b[0m\u001b[0mlen\u001b[0m\u001b[1;33m(\u001b[0m\u001b[0mself\u001b[0m\u001b[1;33m.\u001b[0m\u001b[0msensory_cell_configs\u001b[0m\u001b[1;33m)\u001b[0m\u001b[1;33m)\u001b[0m\u001b[1;33m:\u001b[0m\u001b[1;33m\u001b[0m\u001b[0m\n",
        "\u001b[0m\u001b[1;32m     75 \u001b[1;33m            \u001b[0mindex\u001b[0m \u001b[1;33m=\u001b[0m \u001b[0mself\u001b[0m\u001b[1;33m.\u001b[0m\u001b[0mget_index\u001b[0m\u001b[1;33m(\u001b[0m\u001b[0minput_vector\u001b[0m\u001b[1;33m[\u001b[0m\u001b[0mi\u001b[0m\u001b[1;33m]\u001b[0m\u001b[1;33m,\u001b[0m \u001b[0mself\u001b[0m\u001b[1;33m.\u001b[0m\u001b[0msensory_cell_configs\u001b[0m\u001b[1;33m[\u001b[0m\u001b[0mi\u001b[0m\u001b[1;33m]\u001b[0m\u001b[1;33m)\u001b[0m\u001b[1;33m\u001b[0m\u001b[0m\n",
        "\u001b[0m\n"
       ]
      },
      {
       "name": "stdout",
       "output_type": "stream",
       "stream": "stdout",
       "text": [
        "ipdb> \n"
       ]
      },
      {
       "output_type": "stream",
       "stream": "stdout",
       "text": [
        "> \u001b[1;32m/home/roberto/Documents/motus/cmac.py\u001b[0m(75)\u001b[0;36mrecode\u001b[1;34m()\u001b[0m\n",
        "\u001b[1;32m     74 \u001b[1;33m        \u001b[1;32mfor\u001b[0m \u001b[0mi\u001b[0m \u001b[1;32min\u001b[0m \u001b[0mrange\u001b[0m\u001b[1;33m(\u001b[0m\u001b[0mlen\u001b[0m\u001b[1;33m(\u001b[0m\u001b[0mself\u001b[0m\u001b[1;33m.\u001b[0m\u001b[0msensory_cell_configs\u001b[0m\u001b[1;33m)\u001b[0m\u001b[1;33m)\u001b[0m\u001b[1;33m:\u001b[0m\u001b[1;33m\u001b[0m\u001b[0m\n",
        "\u001b[0m\u001b[1;32m---> 75 \u001b[1;33m            \u001b[0mindex\u001b[0m \u001b[1;33m=\u001b[0m \u001b[0mself\u001b[0m\u001b[1;33m.\u001b[0m\u001b[0mget_index\u001b[0m\u001b[1;33m(\u001b[0m\u001b[0minput_vector\u001b[0m\u001b[1;33m[\u001b[0m\u001b[0mi\u001b[0m\u001b[1;33m]\u001b[0m\u001b[1;33m,\u001b[0m \u001b[0mself\u001b[0m\u001b[1;33m.\u001b[0m\u001b[0msensory_cell_configs\u001b[0m\u001b[1;33m[\u001b[0m\u001b[0mi\u001b[0m\u001b[1;33m]\u001b[0m\u001b[1;33m)\u001b[0m\u001b[1;33m\u001b[0m\u001b[0m\n",
        "\u001b[0m\u001b[1;32m     76 \u001b[1;33m            \u001b[0msens_values\u001b[0m\u001b[1;33m.\u001b[0m\u001b[0mappend\u001b[0m\u001b[1;33m(\u001b[0m\u001b[0mself\u001b[0m\u001b[1;33m.\u001b[0m\u001b[0msensory_cell_configs\u001b[0m\u001b[1;33m[\u001b[0m\u001b[0mi\u001b[0m\u001b[1;33m]\u001b[0m\u001b[1;33m.\u001b[0m\u001b[0mmapping\u001b[0m\u001b[1;33m[\u001b[0m\u001b[0mindex\u001b[0m\u001b[1;33m]\u001b[0m\u001b[1;33m)\u001b[0m\u001b[1;33m\u001b[0m\u001b[0m\n",
        "\u001b[0m\n"
       ]
      },
      {
       "name": "stdout",
       "output_type": "stream",
       "stream": "stdout",
       "text": [
        "ipdb> self.sensory_cell_configs[i].mapping[index]\n"
       ]
      },
      {
       "output_type": "stream",
       "stream": "stdout",
       "text": [
        "*** NameError: name 'index' is not defined\n"
       ]
      },
      {
       "name": "stdout",
       "output_type": "stream",
       "stream": "stdout",
       "text": [
        "ipdb> n\n"
       ]
      },
      {
       "output_type": "stream",
       "stream": "stdout",
       "text": [
        "> \u001b[1;32m/home/roberto/Documents/motus/cmac.py\u001b[0m(76)\u001b[0;36mrecode\u001b[1;34m()\u001b[0m\n",
        "\u001b[1;32m     75 \u001b[1;33m            \u001b[0mindex\u001b[0m \u001b[1;33m=\u001b[0m \u001b[0mself\u001b[0m\u001b[1;33m.\u001b[0m\u001b[0mget_index\u001b[0m\u001b[1;33m(\u001b[0m\u001b[0minput_vector\u001b[0m\u001b[1;33m[\u001b[0m\u001b[0mi\u001b[0m\u001b[1;33m]\u001b[0m\u001b[1;33m,\u001b[0m \u001b[0mself\u001b[0m\u001b[1;33m.\u001b[0m\u001b[0msensory_cell_configs\u001b[0m\u001b[1;33m[\u001b[0m\u001b[0mi\u001b[0m\u001b[1;33m]\u001b[0m\u001b[1;33m)\u001b[0m\u001b[1;33m\u001b[0m\u001b[0m\n",
        "\u001b[0m\u001b[1;32m---> 76 \u001b[1;33m            \u001b[0msens_values\u001b[0m\u001b[1;33m.\u001b[0m\u001b[0mappend\u001b[0m\u001b[1;33m(\u001b[0m\u001b[0mself\u001b[0m\u001b[1;33m.\u001b[0m\u001b[0msensory_cell_configs\u001b[0m\u001b[1;33m[\u001b[0m\u001b[0mi\u001b[0m\u001b[1;33m]\u001b[0m\u001b[1;33m.\u001b[0m\u001b[0mmapping\u001b[0m\u001b[1;33m[\u001b[0m\u001b[0mindex\u001b[0m\u001b[1;33m]\u001b[0m\u001b[1;33m)\u001b[0m\u001b[1;33m\u001b[0m\u001b[0m\n",
        "\u001b[0m\u001b[1;32m     77 \u001b[1;33m        \u001b[0msens_values\u001b[0m \u001b[1;33m=\u001b[0m \u001b[0marray\u001b[0m\u001b[1;33m(\u001b[0m\u001b[0msens_values\u001b[0m\u001b[1;33m,\u001b[0m \u001b[0mdtype\u001b[0m\u001b[1;33m=\u001b[0m\u001b[0mint64\u001b[0m\u001b[1;33m)\u001b[0m\u001b[1;33m\u001b[0m\u001b[0m\n",
        "\u001b[0m\n"
       ]
      },
      {
       "name": "stdout",
       "output_type": "stream",
       "stream": "stdout",
       "text": [
        "ipdb> self.sensory_cell_configs[i].mapping[index]\n"
       ]
      },
      {
       "output_type": "stream",
       "stream": "stdout",
       "text": [
        "array([12, 13, 14, 15])\n"
       ]
      },
      {
       "name": "stdout",
       "output_type": "stream",
       "stream": "stdout",
       "text": [
        "ipdb> l\n"
       ]
      },
      {
       "output_type": "stream",
       "stream": "stdout",
       "text": [
        "\u001b[0;32m     71 \u001b[0m    \u001b[1;32mdef\u001b[0m \u001b[0mrecode\u001b[0m\u001b[1;33m(\u001b[0m\u001b[0mself\u001b[0m\u001b[1;33m,\u001b[0m \u001b[0minput_vector\u001b[0m\u001b[1;33m)\u001b[0m\u001b[1;33m:\u001b[0m\u001b[1;33m\u001b[0m\u001b[0m\n",
        "\u001b[1;31m2\u001b[0;32m    72 \u001b[0m        \u001b[0mrecode_vector\u001b[0m \u001b[1;33m=\u001b[0m \u001b[1;33m[\u001b[0m\u001b[1;33m]\u001b[0m\u001b[1;33m\u001b[0m\u001b[0m\n",
        "\u001b[0;32m     73 \u001b[0m        \u001b[0msens_values\u001b[0m \u001b[1;33m=\u001b[0m \u001b[1;33m[\u001b[0m\u001b[1;33m]\u001b[0m\u001b[1;33m\u001b[0m\u001b[0m\n",
        "\u001b[0;32m     74 \u001b[0m        \u001b[1;32mfor\u001b[0m \u001b[0mi\u001b[0m \u001b[1;32min\u001b[0m \u001b[0mrange\u001b[0m\u001b[1;33m(\u001b[0m\u001b[0mlen\u001b[0m\u001b[1;33m(\u001b[0m\u001b[0mself\u001b[0m\u001b[1;33m.\u001b[0m\u001b[0msensory_cell_configs\u001b[0m\u001b[1;33m)\u001b[0m\u001b[1;33m)\u001b[0m\u001b[1;33m:\u001b[0m\u001b[1;33m\u001b[0m\u001b[0m\n",
        "\u001b[0;32m     75 \u001b[0m            \u001b[0mindex\u001b[0m \u001b[1;33m=\u001b[0m \u001b[0mself\u001b[0m\u001b[1;33m.\u001b[0m\u001b[0mget_index\u001b[0m\u001b[1;33m(\u001b[0m\u001b[0minput_vector\u001b[0m\u001b[1;33m[\u001b[0m\u001b[0mi\u001b[0m\u001b[1;33m]\u001b[0m\u001b[1;33m,\u001b[0m \u001b[0mself\u001b[0m\u001b[1;33m.\u001b[0m\u001b[0msensory_cell_configs\u001b[0m\u001b[1;33m[\u001b[0m\u001b[0mi\u001b[0m\u001b[1;33m]\u001b[0m\u001b[1;33m)\u001b[0m\u001b[1;33m\u001b[0m\u001b[0m\n",
        "\u001b[1;32m---> 76 \u001b[1;33m            \u001b[0msens_values\u001b[0m\u001b[1;33m.\u001b[0m\u001b[0mappend\u001b[0m\u001b[1;33m(\u001b[0m\u001b[0mself\u001b[0m\u001b[1;33m.\u001b[0m\u001b[0msensory_cell_configs\u001b[0m\u001b[1;33m[\u001b[0m\u001b[0mi\u001b[0m\u001b[1;33m]\u001b[0m\u001b[1;33m.\u001b[0m\u001b[0mmapping\u001b[0m\u001b[1;33m[\u001b[0m\u001b[0mindex\u001b[0m\u001b[1;33m]\u001b[0m\u001b[1;33m)\u001b[0m\u001b[1;33m\u001b[0m\u001b[0m\n",
        "\u001b[0m\u001b[0;32m     77 \u001b[0m        \u001b[0msens_values\u001b[0m \u001b[1;33m=\u001b[0m \u001b[0marray\u001b[0m\u001b[1;33m(\u001b[0m\u001b[0msens_values\u001b[0m\u001b[1;33m,\u001b[0m \u001b[0mdtype\u001b[0m\u001b[1;33m=\u001b[0m\u001b[0mint64\u001b[0m\u001b[1;33m)\u001b[0m\u001b[1;33m\u001b[0m\u001b[0m\n",
        "\u001b[0;32m     78 \u001b[0m        \u001b[1;32mfor\u001b[0m \u001b[0mi\u001b[0m \u001b[1;32min\u001b[0m \u001b[0mrange\u001b[0m\u001b[1;33m(\u001b[0m\u001b[0mself\u001b[0m\u001b[1;33m.\u001b[0m\u001b[0mnum_active_cells\u001b[0m\u001b[1;33m)\u001b[0m\u001b[1;33m:\u001b[0m\u001b[1;33m\u001b[0m\u001b[0m\n",
        "\u001b[0;32m     79 \u001b[0m            \u001b[0mtemp\u001b[0m \u001b[1;33m=\u001b[0m \u001b[0msens_values\u001b[0m\u001b[1;33m[\u001b[0m\u001b[1;33m:\u001b[0m\u001b[1;33m,\u001b[0m \u001b[0mi\u001b[0m\u001b[1;33m]\u001b[0m\u001b[1;33m.\u001b[0m\u001b[0mtolist\u001b[0m\u001b[1;33m(\u001b[0m\u001b[1;33m)\u001b[0m\u001b[1;33m\u001b[0m\u001b[0m\n",
        "\u001b[0;32m     80 \u001b[0m            \u001b[0maddress\u001b[0m \u001b[1;33m=\u001b[0m \u001b[0mself\u001b[0m\u001b[1;33m.\u001b[0m\u001b[0mget_address\u001b[0m\u001b[1;33m(\u001b[0m\u001b[0mtemp\u001b[0m\u001b[1;33m)\u001b[0m\u001b[1;33m\u001b[0m\u001b[0m\n",
        "\u001b[0;32m     81 \u001b[0m            \u001b[0mrecode_vector\u001b[0m\u001b[1;33m.\u001b[0m\u001b[0mappend\u001b[0m\u001b[1;33m(\u001b[0m\u001b[0maddress\u001b[0m\u001b[1;33m)\u001b[0m\u001b[1;33m\u001b[0m\u001b[0m\n",
        "\n"
       ]
      },
      {
       "name": "stdout",
       "output_type": "stream",
       "stream": "stdout",
       "text": [
        "ipdb> n\n"
       ]
      },
      {
       "output_type": "stream",
       "stream": "stdout",
       "text": [
        "> \u001b[1;32m/home/roberto/Documents/motus/cmac.py\u001b[0m(74)\u001b[0;36mrecode\u001b[1;34m()\u001b[0m\n",
        "\u001b[1;32m     73 \u001b[1;33m        \u001b[0msens_values\u001b[0m \u001b[1;33m=\u001b[0m \u001b[1;33m[\u001b[0m\u001b[1;33m]\u001b[0m\u001b[1;33m\u001b[0m\u001b[0m\n",
        "\u001b[0m\u001b[1;32m---> 74 \u001b[1;33m        \u001b[1;32mfor\u001b[0m \u001b[0mi\u001b[0m \u001b[1;32min\u001b[0m \u001b[0mrange\u001b[0m\u001b[1;33m(\u001b[0m\u001b[0mlen\u001b[0m\u001b[1;33m(\u001b[0m\u001b[0mself\u001b[0m\u001b[1;33m.\u001b[0m\u001b[0msensory_cell_configs\u001b[0m\u001b[1;33m)\u001b[0m\u001b[1;33m)\u001b[0m\u001b[1;33m:\u001b[0m\u001b[1;33m\u001b[0m\u001b[0m\n",
        "\u001b[0m\u001b[1;32m     75 \u001b[1;33m            \u001b[0mindex\u001b[0m \u001b[1;33m=\u001b[0m \u001b[0mself\u001b[0m\u001b[1;33m.\u001b[0m\u001b[0mget_index\u001b[0m\u001b[1;33m(\u001b[0m\u001b[0minput_vector\u001b[0m\u001b[1;33m[\u001b[0m\u001b[0mi\u001b[0m\u001b[1;33m]\u001b[0m\u001b[1;33m,\u001b[0m \u001b[0mself\u001b[0m\u001b[1;33m.\u001b[0m\u001b[0msensory_cell_configs\u001b[0m\u001b[1;33m[\u001b[0m\u001b[0mi\u001b[0m\u001b[1;33m]\u001b[0m\u001b[1;33m)\u001b[0m\u001b[1;33m\u001b[0m\u001b[0m\n",
        "\u001b[0m\n"
       ]
      },
      {
       "name": "stdout",
       "output_type": "stream",
       "stream": "stdout",
       "text": [
        "ipdb> n\n"
       ]
      },
      {
       "output_type": "stream",
       "stream": "stdout",
       "text": [
        "> \u001b[1;32m/home/roberto/Documents/motus/cmac.py\u001b[0m(75)\u001b[0;36mrecode\u001b[1;34m()\u001b[0m\n",
        "\u001b[1;32m     74 \u001b[1;33m        \u001b[1;32mfor\u001b[0m \u001b[0mi\u001b[0m \u001b[1;32min\u001b[0m \u001b[0mrange\u001b[0m\u001b[1;33m(\u001b[0m\u001b[0mlen\u001b[0m\u001b[1;33m(\u001b[0m\u001b[0mself\u001b[0m\u001b[1;33m.\u001b[0m\u001b[0msensory_cell_configs\u001b[0m\u001b[1;33m)\u001b[0m\u001b[1;33m)\u001b[0m\u001b[1;33m:\u001b[0m\u001b[1;33m\u001b[0m\u001b[0m\n",
        "\u001b[0m\u001b[1;32m---> 75 \u001b[1;33m            \u001b[0mindex\u001b[0m \u001b[1;33m=\u001b[0m \u001b[0mself\u001b[0m\u001b[1;33m.\u001b[0m\u001b[0mget_index\u001b[0m\u001b[1;33m(\u001b[0m\u001b[0minput_vector\u001b[0m\u001b[1;33m[\u001b[0m\u001b[0mi\u001b[0m\u001b[1;33m]\u001b[0m\u001b[1;33m,\u001b[0m \u001b[0mself\u001b[0m\u001b[1;33m.\u001b[0m\u001b[0msensory_cell_configs\u001b[0m\u001b[1;33m[\u001b[0m\u001b[0mi\u001b[0m\u001b[1;33m]\u001b[0m\u001b[1;33m)\u001b[0m\u001b[1;33m\u001b[0m\u001b[0m\n",
        "\u001b[0m\u001b[1;32m     76 \u001b[1;33m            \u001b[0msens_values\u001b[0m\u001b[1;33m.\u001b[0m\u001b[0mappend\u001b[0m\u001b[1;33m(\u001b[0m\u001b[0mself\u001b[0m\u001b[1;33m.\u001b[0m\u001b[0msensory_cell_configs\u001b[0m\u001b[1;33m[\u001b[0m\u001b[0mi\u001b[0m\u001b[1;33m]\u001b[0m\u001b[1;33m.\u001b[0m\u001b[0mmapping\u001b[0m\u001b[1;33m[\u001b[0m\u001b[0mindex\u001b[0m\u001b[1;33m]\u001b[0m\u001b[1;33m)\u001b[0m\u001b[1;33m\u001b[0m\u001b[0m\n",
        "\u001b[0m\n"
       ]
      },
      {
       "name": "stdout",
       "output_type": "stream",
       "stream": "stdout",
       "text": [
        "ipdb> n\n"
       ]
      },
      {
       "output_type": "stream",
       "stream": "stdout",
       "text": [
        "> \u001b[1;32m/home/roberto/Documents/motus/cmac.py\u001b[0m(76)\u001b[0;36mrecode\u001b[1;34m()\u001b[0m\n",
        "\u001b[1;32m     75 \u001b[1;33m            \u001b[0mindex\u001b[0m \u001b[1;33m=\u001b[0m \u001b[0mself\u001b[0m\u001b[1;33m.\u001b[0m\u001b[0mget_index\u001b[0m\u001b[1;33m(\u001b[0m\u001b[0minput_vector\u001b[0m\u001b[1;33m[\u001b[0m\u001b[0mi\u001b[0m\u001b[1;33m]\u001b[0m\u001b[1;33m,\u001b[0m \u001b[0mself\u001b[0m\u001b[1;33m.\u001b[0m\u001b[0msensory_cell_configs\u001b[0m\u001b[1;33m[\u001b[0m\u001b[0mi\u001b[0m\u001b[1;33m]\u001b[0m\u001b[1;33m)\u001b[0m\u001b[1;33m\u001b[0m\u001b[0m\n",
        "\u001b[0m\u001b[1;32m---> 76 \u001b[1;33m            \u001b[0msens_values\u001b[0m\u001b[1;33m.\u001b[0m\u001b[0mappend\u001b[0m\u001b[1;33m(\u001b[0m\u001b[0mself\u001b[0m\u001b[1;33m.\u001b[0m\u001b[0msensory_cell_configs\u001b[0m\u001b[1;33m[\u001b[0m\u001b[0mi\u001b[0m\u001b[1;33m]\u001b[0m\u001b[1;33m.\u001b[0m\u001b[0mmapping\u001b[0m\u001b[1;33m[\u001b[0m\u001b[0mindex\u001b[0m\u001b[1;33m]\u001b[0m\u001b[1;33m)\u001b[0m\u001b[1;33m\u001b[0m\u001b[0m\n",
        "\u001b[0m\u001b[1;32m     77 \u001b[1;33m        \u001b[0msens_values\u001b[0m \u001b[1;33m=\u001b[0m \u001b[0marray\u001b[0m\u001b[1;33m(\u001b[0m\u001b[0msens_values\u001b[0m\u001b[1;33m,\u001b[0m \u001b[0mdtype\u001b[0m\u001b[1;33m=\u001b[0m\u001b[0mint64\u001b[0m\u001b[1;33m)\u001b[0m\u001b[1;33m\u001b[0m\u001b[0m\n",
        "\u001b[0m\n"
       ]
      },
      {
       "name": "stdout",
       "output_type": "stream",
       "stream": "stdout",
       "text": [
        "ipdb> n\n"
       ]
      },
      {
       "output_type": "stream",
       "stream": "stdout",
       "text": [
        "> \u001b[1;32m/home/roberto/Documents/motus/cmac.py\u001b[0m(74)\u001b[0;36mrecode\u001b[1;34m()\u001b[0m\n",
        "\u001b[1;32m     73 \u001b[1;33m        \u001b[0msens_values\u001b[0m \u001b[1;33m=\u001b[0m \u001b[1;33m[\u001b[0m\u001b[1;33m]\u001b[0m\u001b[1;33m\u001b[0m\u001b[0m\n",
        "\u001b[0m\u001b[1;32m---> 74 \u001b[1;33m        \u001b[1;32mfor\u001b[0m \u001b[0mi\u001b[0m \u001b[1;32min\u001b[0m \u001b[0mrange\u001b[0m\u001b[1;33m(\u001b[0m\u001b[0mlen\u001b[0m\u001b[1;33m(\u001b[0m\u001b[0mself\u001b[0m\u001b[1;33m.\u001b[0m\u001b[0msensory_cell_configs\u001b[0m\u001b[1;33m)\u001b[0m\u001b[1;33m)\u001b[0m\u001b[1;33m:\u001b[0m\u001b[1;33m\u001b[0m\u001b[0m\n",
        "\u001b[0m\u001b[1;32m     75 \u001b[1;33m            \u001b[0mindex\u001b[0m \u001b[1;33m=\u001b[0m \u001b[0mself\u001b[0m\u001b[1;33m.\u001b[0m\u001b[0mget_index\u001b[0m\u001b[1;33m(\u001b[0m\u001b[0minput_vector\u001b[0m\u001b[1;33m[\u001b[0m\u001b[0mi\u001b[0m\u001b[1;33m]\u001b[0m\u001b[1;33m,\u001b[0m \u001b[0mself\u001b[0m\u001b[1;33m.\u001b[0m\u001b[0msensory_cell_configs\u001b[0m\u001b[1;33m[\u001b[0m\u001b[0mi\u001b[0m\u001b[1;33m]\u001b[0m\u001b[1;33m)\u001b[0m\u001b[1;33m\u001b[0m\u001b[0m\n",
        "\u001b[0m\n"
       ]
      },
      {
       "name": "stdout",
       "output_type": "stream",
       "stream": "stdout",
       "text": [
        "ipdb> sens_values\n"
       ]
      },
      {
       "output_type": "stream",
       "stream": "stdout",
       "text": [
        "[array([12, 13, 14, 15]), array([12,  9, 10, 11])]\n"
       ]
      },
      {
       "name": "stdout",
       "output_type": "stream",
       "stream": "stdout",
       "text": [
        "ipdb> n\n"
       ]
      },
      {
       "output_type": "stream",
       "stream": "stdout",
       "text": [
        "> \u001b[1;32m/home/roberto/Documents/motus/cmac.py\u001b[0m(75)\u001b[0;36mrecode\u001b[1;34m()\u001b[0m\n",
        "\u001b[1;32m     74 \u001b[1;33m        \u001b[1;32mfor\u001b[0m \u001b[0mi\u001b[0m \u001b[1;32min\u001b[0m \u001b[0mrange\u001b[0m\u001b[1;33m(\u001b[0m\u001b[0mlen\u001b[0m\u001b[1;33m(\u001b[0m\u001b[0mself\u001b[0m\u001b[1;33m.\u001b[0m\u001b[0msensory_cell_configs\u001b[0m\u001b[1;33m)\u001b[0m\u001b[1;33m)\u001b[0m\u001b[1;33m:\u001b[0m\u001b[1;33m\u001b[0m\u001b[0m\n",
        "\u001b[0m\u001b[1;32m---> 75 \u001b[1;33m            \u001b[0mindex\u001b[0m \u001b[1;33m=\u001b[0m \u001b[0mself\u001b[0m\u001b[1;33m.\u001b[0m\u001b[0mget_index\u001b[0m\u001b[1;33m(\u001b[0m\u001b[0minput_vector\u001b[0m\u001b[1;33m[\u001b[0m\u001b[0mi\u001b[0m\u001b[1;33m]\u001b[0m\u001b[1;33m,\u001b[0m \u001b[0mself\u001b[0m\u001b[1;33m.\u001b[0m\u001b[0msensory_cell_configs\u001b[0m\u001b[1;33m[\u001b[0m\u001b[0mi\u001b[0m\u001b[1;33m]\u001b[0m\u001b[1;33m)\u001b[0m\u001b[1;33m\u001b[0m\u001b[0m\n",
        "\u001b[0m\u001b[1;32m     76 \u001b[1;33m            \u001b[0msens_values\u001b[0m\u001b[1;33m.\u001b[0m\u001b[0mappend\u001b[0m\u001b[1;33m(\u001b[0m\u001b[0mself\u001b[0m\u001b[1;33m.\u001b[0m\u001b[0msensory_cell_configs\u001b[0m\u001b[1;33m[\u001b[0m\u001b[0mi\u001b[0m\u001b[1;33m]\u001b[0m\u001b[1;33m.\u001b[0m\u001b[0mmapping\u001b[0m\u001b[1;33m[\u001b[0m\u001b[0mindex\u001b[0m\u001b[1;33m]\u001b[0m\u001b[1;33m)\u001b[0m\u001b[1;33m\u001b[0m\u001b[0m\n",
        "\u001b[0m\n"
       ]
      },
      {
       "name": "stdout",
       "output_type": "stream",
       "stream": "stdout",
       "text": [
        "ipdb> \n"
       ]
      },
      {
       "output_type": "stream",
       "stream": "stdout",
       "text": [
        "> \u001b[1;32m/home/roberto/Documents/motus/cmac.py\u001b[0m(76)\u001b[0;36mrecode\u001b[1;34m()\u001b[0m\n",
        "\u001b[1;32m     75 \u001b[1;33m            \u001b[0mindex\u001b[0m \u001b[1;33m=\u001b[0m \u001b[0mself\u001b[0m\u001b[1;33m.\u001b[0m\u001b[0mget_index\u001b[0m\u001b[1;33m(\u001b[0m\u001b[0minput_vector\u001b[0m\u001b[1;33m[\u001b[0m\u001b[0mi\u001b[0m\u001b[1;33m]\u001b[0m\u001b[1;33m,\u001b[0m \u001b[0mself\u001b[0m\u001b[1;33m.\u001b[0m\u001b[0msensory_cell_configs\u001b[0m\u001b[1;33m[\u001b[0m\u001b[0mi\u001b[0m\u001b[1;33m]\u001b[0m\u001b[1;33m)\u001b[0m\u001b[1;33m\u001b[0m\u001b[0m\n",
        "\u001b[0m\u001b[1;32m---> 76 \u001b[1;33m            \u001b[0msens_values\u001b[0m\u001b[1;33m.\u001b[0m\u001b[0mappend\u001b[0m\u001b[1;33m(\u001b[0m\u001b[0mself\u001b[0m\u001b[1;33m.\u001b[0m\u001b[0msensory_cell_configs\u001b[0m\u001b[1;33m[\u001b[0m\u001b[0mi\u001b[0m\u001b[1;33m]\u001b[0m\u001b[1;33m.\u001b[0m\u001b[0mmapping\u001b[0m\u001b[1;33m[\u001b[0m\u001b[0mindex\u001b[0m\u001b[1;33m]\u001b[0m\u001b[1;33m)\u001b[0m\u001b[1;33m\u001b[0m\u001b[0m\n",
        "\u001b[0m\u001b[1;32m     77 \u001b[1;33m        \u001b[0msens_values\u001b[0m \u001b[1;33m=\u001b[0m \u001b[0marray\u001b[0m\u001b[1;33m(\u001b[0m\u001b[0msens_values\u001b[0m\u001b[1;33m,\u001b[0m \u001b[0mdtype\u001b[0m\u001b[1;33m=\u001b[0m\u001b[0mint64\u001b[0m\u001b[1;33m)\u001b[0m\u001b[1;33m\u001b[0m\u001b[0m\n",
        "\u001b[0m\n"
       ]
      },
      {
       "name": "stdout",
       "output_type": "stream",
       "stream": "stdout",
       "text": [
        "ipdb> \n"
       ]
      },
      {
       "output_type": "stream",
       "stream": "stdout",
       "text": [
        "> \u001b[1;32m/home/roberto/Documents/motus/cmac.py\u001b[0m(74)\u001b[0;36mrecode\u001b[1;34m()\u001b[0m\n",
        "\u001b[1;32m     73 \u001b[1;33m        \u001b[0msens_values\u001b[0m \u001b[1;33m=\u001b[0m \u001b[1;33m[\u001b[0m\u001b[1;33m]\u001b[0m\u001b[1;33m\u001b[0m\u001b[0m\n",
        "\u001b[0m\u001b[1;32m---> 74 \u001b[1;33m        \u001b[1;32mfor\u001b[0m \u001b[0mi\u001b[0m \u001b[1;32min\u001b[0m \u001b[0mrange\u001b[0m\u001b[1;33m(\u001b[0m\u001b[0mlen\u001b[0m\u001b[1;33m(\u001b[0m\u001b[0mself\u001b[0m\u001b[1;33m.\u001b[0m\u001b[0msensory_cell_configs\u001b[0m\u001b[1;33m)\u001b[0m\u001b[1;33m)\u001b[0m\u001b[1;33m:\u001b[0m\u001b[1;33m\u001b[0m\u001b[0m\n",
        "\u001b[0m\u001b[1;32m     75 \u001b[1;33m            \u001b[0mindex\u001b[0m \u001b[1;33m=\u001b[0m \u001b[0mself\u001b[0m\u001b[1;33m.\u001b[0m\u001b[0mget_index\u001b[0m\u001b[1;33m(\u001b[0m\u001b[0minput_vector\u001b[0m\u001b[1;33m[\u001b[0m\u001b[0mi\u001b[0m\u001b[1;33m]\u001b[0m\u001b[1;33m,\u001b[0m \u001b[0mself\u001b[0m\u001b[1;33m.\u001b[0m\u001b[0msensory_cell_configs\u001b[0m\u001b[1;33m[\u001b[0m\u001b[0mi\u001b[0m\u001b[1;33m]\u001b[0m\u001b[1;33m)\u001b[0m\u001b[1;33m\u001b[0m\u001b[0m\n",
        "\u001b[0m\n"
       ]
      },
      {
       "name": "stdout",
       "output_type": "stream",
       "stream": "stdout",
       "text": [
        "ipdb> \n"
       ]
      },
      {
       "output_type": "stream",
       "stream": "stdout",
       "text": [
        "> \u001b[1;32m/home/roberto/Documents/motus/cmac.py\u001b[0m(77)\u001b[0;36mrecode\u001b[1;34m()\u001b[0m\n",
        "\u001b[1;32m     76 \u001b[1;33m            \u001b[0msens_values\u001b[0m\u001b[1;33m.\u001b[0m\u001b[0mappend\u001b[0m\u001b[1;33m(\u001b[0m\u001b[0mself\u001b[0m\u001b[1;33m.\u001b[0m\u001b[0msensory_cell_configs\u001b[0m\u001b[1;33m[\u001b[0m\u001b[0mi\u001b[0m\u001b[1;33m]\u001b[0m\u001b[1;33m.\u001b[0m\u001b[0mmapping\u001b[0m\u001b[1;33m[\u001b[0m\u001b[0mindex\u001b[0m\u001b[1;33m]\u001b[0m\u001b[1;33m)\u001b[0m\u001b[1;33m\u001b[0m\u001b[0m\n",
        "\u001b[0m\u001b[1;32m---> 77 \u001b[1;33m        \u001b[0msens_values\u001b[0m \u001b[1;33m=\u001b[0m \u001b[0marray\u001b[0m\u001b[1;33m(\u001b[0m\u001b[0msens_values\u001b[0m\u001b[1;33m,\u001b[0m \u001b[0mdtype\u001b[0m\u001b[1;33m=\u001b[0m\u001b[0mint64\u001b[0m\u001b[1;33m)\u001b[0m\u001b[1;33m\u001b[0m\u001b[0m\n",
        "\u001b[0m\u001b[1;32m     78 \u001b[1;33m        \u001b[1;32mfor\u001b[0m \u001b[0mi\u001b[0m \u001b[1;32min\u001b[0m \u001b[0mrange\u001b[0m\u001b[1;33m(\u001b[0m\u001b[0mself\u001b[0m\u001b[1;33m.\u001b[0m\u001b[0mnum_active_cells\u001b[0m\u001b[1;33m)\u001b[0m\u001b[1;33m:\u001b[0m\u001b[1;33m\u001b[0m\u001b[0m\n",
        "\u001b[0m\n"
       ]
      },
      {
       "name": "stdout",
       "output_type": "stream",
       "stream": "stdout",
       "text": [
        "ipdb> \n"
       ]
      },
      {
       "output_type": "stream",
       "stream": "stdout",
       "text": [
        "> \u001b[1;32m/home/roberto/Documents/motus/cmac.py\u001b[0m(78)\u001b[0;36mrecode\u001b[1;34m()\u001b[0m\n",
        "\u001b[1;32m     77 \u001b[1;33m        \u001b[0msens_values\u001b[0m \u001b[1;33m=\u001b[0m \u001b[0marray\u001b[0m\u001b[1;33m(\u001b[0m\u001b[0msens_values\u001b[0m\u001b[1;33m,\u001b[0m \u001b[0mdtype\u001b[0m\u001b[1;33m=\u001b[0m\u001b[0mint64\u001b[0m\u001b[1;33m)\u001b[0m\u001b[1;33m\u001b[0m\u001b[0m\n",
        "\u001b[0m\u001b[1;32m---> 78 \u001b[1;33m        \u001b[1;32mfor\u001b[0m \u001b[0mi\u001b[0m \u001b[1;32min\u001b[0m \u001b[0mrange\u001b[0m\u001b[1;33m(\u001b[0m\u001b[0mself\u001b[0m\u001b[1;33m.\u001b[0m\u001b[0mnum_active_cells\u001b[0m\u001b[1;33m)\u001b[0m\u001b[1;33m:\u001b[0m\u001b[1;33m\u001b[0m\u001b[0m\n",
        "\u001b[0m\u001b[1;32m     79 \u001b[1;33m            \u001b[0mtemp\u001b[0m \u001b[1;33m=\u001b[0m \u001b[0msens_values\u001b[0m\u001b[1;33m[\u001b[0m\u001b[1;33m:\u001b[0m\u001b[1;33m,\u001b[0m \u001b[0mi\u001b[0m\u001b[1;33m]\u001b[0m\u001b[1;33m.\u001b[0m\u001b[0mtolist\u001b[0m\u001b[1;33m(\u001b[0m\u001b[1;33m)\u001b[0m\u001b[1;33m\u001b[0m\u001b[0m\n",
        "\u001b[0m\n"
       ]
      },
      {
       "name": "stdout",
       "output_type": "stream",
       "stream": "stdout",
       "text": [
        "ipdb> sens_values\n"
       ]
      },
      {
       "output_type": "stream",
       "stream": "stdout",
       "text": [
        "array([[12, 13, 14, 15],\n",
        "       [12,  9, 10, 11],\n",
        "       [ 4,  1,  2,  3]])\n"
       ]
      },
      {
       "name": "stdout",
       "output_type": "stream",
       "stream": "stdout",
       "text": [
        "ipdb> input_vector\n"
       ]
      },
      {
       "output_type": "stream",
       "stream": "stdout",
       "text": [
        "[12.0, 1.0, 1.0]\n"
       ]
      },
      {
       "name": "stdout",
       "output_type": "stream",
       "stream": "stdout",
       "text": [
        "ipdb> sens_values\n"
       ]
      },
      {
       "output_type": "stream",
       "stream": "stdout",
       "text": [
        "array([[12, 13, 14, 15],\n",
        "       [12,  9, 10, 11],\n",
        "       [ 4,  1,  2,  3]])\n"
       ]
      },
      {
       "name": "stdout",
       "output_type": "stream",
       "stream": "stdout",
       "text": [
        "ipdb> l\n"
       ]
      },
      {
       "output_type": "stream",
       "stream": "stdout",
       "text": [
        "\u001b[0;32m     73 \u001b[0m        \u001b[0msens_values\u001b[0m \u001b[1;33m=\u001b[0m \u001b[1;33m[\u001b[0m\u001b[1;33m]\u001b[0m\u001b[1;33m\u001b[0m\u001b[0m\n",
        "\u001b[0;32m     74 \u001b[0m        \u001b[1;32mfor\u001b[0m \u001b[0mi\u001b[0m \u001b[1;32min\u001b[0m \u001b[0mrange\u001b[0m\u001b[1;33m(\u001b[0m\u001b[0mlen\u001b[0m\u001b[1;33m(\u001b[0m\u001b[0mself\u001b[0m\u001b[1;33m.\u001b[0m\u001b[0msensory_cell_configs\u001b[0m\u001b[1;33m)\u001b[0m\u001b[1;33m)\u001b[0m\u001b[1;33m:\u001b[0m\u001b[1;33m\u001b[0m\u001b[0m\n",
        "\u001b[0;32m     75 \u001b[0m            \u001b[0mindex\u001b[0m \u001b[1;33m=\u001b[0m \u001b[0mself\u001b[0m\u001b[1;33m.\u001b[0m\u001b[0mget_index\u001b[0m\u001b[1;33m(\u001b[0m\u001b[0minput_vector\u001b[0m\u001b[1;33m[\u001b[0m\u001b[0mi\u001b[0m\u001b[1;33m]\u001b[0m\u001b[1;33m,\u001b[0m \u001b[0mself\u001b[0m\u001b[1;33m.\u001b[0m\u001b[0msensory_cell_configs\u001b[0m\u001b[1;33m[\u001b[0m\u001b[0mi\u001b[0m\u001b[1;33m]\u001b[0m\u001b[1;33m)\u001b[0m\u001b[1;33m\u001b[0m\u001b[0m\n",
        "\u001b[0;32m     76 \u001b[0m            \u001b[0msens_values\u001b[0m\u001b[1;33m.\u001b[0m\u001b[0mappend\u001b[0m\u001b[1;33m(\u001b[0m\u001b[0mself\u001b[0m\u001b[1;33m.\u001b[0m\u001b[0msensory_cell_configs\u001b[0m\u001b[1;33m[\u001b[0m\u001b[0mi\u001b[0m\u001b[1;33m]\u001b[0m\u001b[1;33m.\u001b[0m\u001b[0mmapping\u001b[0m\u001b[1;33m[\u001b[0m\u001b[0mindex\u001b[0m\u001b[1;33m]\u001b[0m\u001b[1;33m)\u001b[0m\u001b[1;33m\u001b[0m\u001b[0m\n",
        "\u001b[0;32m     77 \u001b[0m        \u001b[0msens_values\u001b[0m \u001b[1;33m=\u001b[0m \u001b[0marray\u001b[0m\u001b[1;33m(\u001b[0m\u001b[0msens_values\u001b[0m\u001b[1;33m,\u001b[0m \u001b[0mdtype\u001b[0m\u001b[1;33m=\u001b[0m\u001b[0mint64\u001b[0m\u001b[1;33m)\u001b[0m\u001b[1;33m\u001b[0m\u001b[0m\n",
        "\u001b[1;32m---> 78 \u001b[1;33m        \u001b[1;32mfor\u001b[0m \u001b[0mi\u001b[0m \u001b[1;32min\u001b[0m \u001b[0mrange\u001b[0m\u001b[1;33m(\u001b[0m\u001b[0mself\u001b[0m\u001b[1;33m.\u001b[0m\u001b[0mnum_active_cells\u001b[0m\u001b[1;33m)\u001b[0m\u001b[1;33m:\u001b[0m\u001b[1;33m\u001b[0m\u001b[0m\n",
        "\u001b[0m\u001b[0;32m     79 \u001b[0m            \u001b[0mtemp\u001b[0m \u001b[1;33m=\u001b[0m \u001b[0msens_values\u001b[0m\u001b[1;33m[\u001b[0m\u001b[1;33m:\u001b[0m\u001b[1;33m,\u001b[0m \u001b[0mi\u001b[0m\u001b[1;33m]\u001b[0m\u001b[1;33m.\u001b[0m\u001b[0mtolist\u001b[0m\u001b[1;33m(\u001b[0m\u001b[1;33m)\u001b[0m\u001b[1;33m\u001b[0m\u001b[0m\n",
        "\u001b[0;32m     80 \u001b[0m            \u001b[0maddress\u001b[0m \u001b[1;33m=\u001b[0m \u001b[0mself\u001b[0m\u001b[1;33m.\u001b[0m\u001b[0mget_address\u001b[0m\u001b[1;33m(\u001b[0m\u001b[0mtemp\u001b[0m\u001b[1;33m)\u001b[0m\u001b[1;33m\u001b[0m\u001b[0m\n",
        "\u001b[0;32m     81 \u001b[0m            \u001b[0mrecode_vector\u001b[0m\u001b[1;33m.\u001b[0m\u001b[0mappend\u001b[0m\u001b[1;33m(\u001b[0m\u001b[0maddress\u001b[0m\u001b[1;33m)\u001b[0m\u001b[1;33m\u001b[0m\u001b[0m\n",
        "\u001b[0;32m     82 \u001b[0m        \u001b[1;32mreturn\u001b[0m \u001b[0mrecode_vector\u001b[0m\u001b[1;33m\u001b[0m\u001b[0m\n",
        "\u001b[0;32m     83 \u001b[0m\u001b[1;33m\u001b[0m\u001b[0m\n",
        "\n"
       ]
      },
      {
       "name": "stdout",
       "output_type": "stream",
       "stream": "stdout",
       "text": [
        "ipdb> n\n"
       ]
      },
      {
       "output_type": "stream",
       "stream": "stdout",
       "text": [
        "> \u001b[1;32m/home/roberto/Documents/motus/cmac.py\u001b[0m(79)\u001b[0;36mrecode\u001b[1;34m()\u001b[0m\n",
        "\u001b[1;32m     78 \u001b[1;33m        \u001b[1;32mfor\u001b[0m \u001b[0mi\u001b[0m \u001b[1;32min\u001b[0m \u001b[0mrange\u001b[0m\u001b[1;33m(\u001b[0m\u001b[0mself\u001b[0m\u001b[1;33m.\u001b[0m\u001b[0mnum_active_cells\u001b[0m\u001b[1;33m)\u001b[0m\u001b[1;33m:\u001b[0m\u001b[1;33m\u001b[0m\u001b[0m\n",
        "\u001b[0m\u001b[1;32m---> 79 \u001b[1;33m            \u001b[0mtemp\u001b[0m \u001b[1;33m=\u001b[0m \u001b[0msens_values\u001b[0m\u001b[1;33m[\u001b[0m\u001b[1;33m:\u001b[0m\u001b[1;33m,\u001b[0m \u001b[0mi\u001b[0m\u001b[1;33m]\u001b[0m\u001b[1;33m.\u001b[0m\u001b[0mtolist\u001b[0m\u001b[1;33m(\u001b[0m\u001b[1;33m)\u001b[0m\u001b[1;33m\u001b[0m\u001b[0m\n",
        "\u001b[0m\u001b[1;32m     80 \u001b[1;33m            \u001b[0maddress\u001b[0m \u001b[1;33m=\u001b[0m \u001b[0mself\u001b[0m\u001b[1;33m.\u001b[0m\u001b[0mget_address\u001b[0m\u001b[1;33m(\u001b[0m\u001b[0mtemp\u001b[0m\u001b[1;33m)\u001b[0m\u001b[1;33m\u001b[0m\u001b[0m\n",
        "\u001b[0m\n"
       ]
      },
      {
       "name": "stdout",
       "output_type": "stream",
       "stream": "stdout",
       "text": [
        "ipdb> n\n"
       ]
      },
      {
       "output_type": "stream",
       "stream": "stdout",
       "text": [
        "> \u001b[1;32m/home/roberto/Documents/motus/cmac.py\u001b[0m(80)\u001b[0;36mrecode\u001b[1;34m()\u001b[0m\n",
        "\u001b[1;32m     79 \u001b[1;33m            \u001b[0mtemp\u001b[0m \u001b[1;33m=\u001b[0m \u001b[0msens_values\u001b[0m\u001b[1;33m[\u001b[0m\u001b[1;33m:\u001b[0m\u001b[1;33m,\u001b[0m \u001b[0mi\u001b[0m\u001b[1;33m]\u001b[0m\u001b[1;33m.\u001b[0m\u001b[0mtolist\u001b[0m\u001b[1;33m(\u001b[0m\u001b[1;33m)\u001b[0m\u001b[1;33m\u001b[0m\u001b[0m\n",
        "\u001b[0m\u001b[1;32m---> 80 \u001b[1;33m            \u001b[0maddress\u001b[0m \u001b[1;33m=\u001b[0m \u001b[0mself\u001b[0m\u001b[1;33m.\u001b[0m\u001b[0mget_address\u001b[0m\u001b[1;33m(\u001b[0m\u001b[0mtemp\u001b[0m\u001b[1;33m)\u001b[0m\u001b[1;33m\u001b[0m\u001b[0m\n",
        "\u001b[0m\u001b[1;32m     81 \u001b[1;33m            \u001b[0mrecode_vector\u001b[0m\u001b[1;33m.\u001b[0m\u001b[0mappend\u001b[0m\u001b[1;33m(\u001b[0m\u001b[0maddress\u001b[0m\u001b[1;33m)\u001b[0m\u001b[1;33m\u001b[0m\u001b[0m\n",
        "\u001b[0m\n"
       ]
      },
      {
       "name": "stdout",
       "output_type": "stream",
       "stream": "stdout",
       "text": [
        "ipdb> n\n"
       ]
      },
      {
       "output_type": "stream",
       "stream": "stdout",
       "text": [
        "> \u001b[1;32m/home/roberto/Documents/motus/cmac.py\u001b[0m(81)\u001b[0;36mrecode\u001b[1;34m()\u001b[0m\n",
        "\u001b[1;32m     80 \u001b[1;33m            \u001b[0maddress\u001b[0m \u001b[1;33m=\u001b[0m \u001b[0mself\u001b[0m\u001b[1;33m.\u001b[0m\u001b[0mget_address\u001b[0m\u001b[1;33m(\u001b[0m\u001b[0mtemp\u001b[0m\u001b[1;33m)\u001b[0m\u001b[1;33m\u001b[0m\u001b[0m\n",
        "\u001b[0m\u001b[1;32m---> 81 \u001b[1;33m            \u001b[0mrecode_vector\u001b[0m\u001b[1;33m.\u001b[0m\u001b[0mappend\u001b[0m\u001b[1;33m(\u001b[0m\u001b[0maddress\u001b[0m\u001b[1;33m)\u001b[0m\u001b[1;33m\u001b[0m\u001b[0m\n",
        "\u001b[0m\u001b[1;32m     82 \u001b[1;33m        \u001b[1;32mreturn\u001b[0m \u001b[0mrecode_vector\u001b[0m\u001b[1;33m\u001b[0m\u001b[0m\n",
        "\u001b[0m\n"
       ]
      },
      {
       "name": "stdout",
       "output_type": "stream",
       "stream": "stdout",
       "text": [
        "ipdb> address\n"
       ]
      },
      {
       "output_type": "stream",
       "stream": "stdout",
       "text": [
        "41212\n"
       ]
      },
      {
       "name": "stdout",
       "output_type": "stream",
       "stream": "stdout",
       "text": [
        "ipdb> n\n"
       ]
      },
      {
       "output_type": "stream",
       "stream": "stdout",
       "text": [
        "> \u001b[1;32m/home/roberto/Documents/motus/cmac.py\u001b[0m(78)\u001b[0;36mrecode\u001b[1;34m()\u001b[0m\n",
        "\u001b[1;32m     77 \u001b[1;33m        \u001b[0msens_values\u001b[0m \u001b[1;33m=\u001b[0m \u001b[0marray\u001b[0m\u001b[1;33m(\u001b[0m\u001b[0msens_values\u001b[0m\u001b[1;33m,\u001b[0m \u001b[0mdtype\u001b[0m\u001b[1;33m=\u001b[0m\u001b[0mint64\u001b[0m\u001b[1;33m)\u001b[0m\u001b[1;33m\u001b[0m\u001b[0m\n",
        "\u001b[0m\u001b[1;32m---> 78 \u001b[1;33m        \u001b[1;32mfor\u001b[0m \u001b[0mi\u001b[0m \u001b[1;32min\u001b[0m \u001b[0mrange\u001b[0m\u001b[1;33m(\u001b[0m\u001b[0mself\u001b[0m\u001b[1;33m.\u001b[0m\u001b[0mnum_active_cells\u001b[0m\u001b[1;33m)\u001b[0m\u001b[1;33m:\u001b[0m\u001b[1;33m\u001b[0m\u001b[0m\n",
        "\u001b[0m\u001b[1;32m     79 \u001b[1;33m            \u001b[0mtemp\u001b[0m \u001b[1;33m=\u001b[0m \u001b[0msens_values\u001b[0m\u001b[1;33m[\u001b[0m\u001b[1;33m:\u001b[0m\u001b[1;33m,\u001b[0m \u001b[0mi\u001b[0m\u001b[1;33m]\u001b[0m\u001b[1;33m.\u001b[0m\u001b[0mtolist\u001b[0m\u001b[1;33m(\u001b[0m\u001b[1;33m)\u001b[0m\u001b[1;33m\u001b[0m\u001b[0m\n",
        "\u001b[0m\n"
       ]
      },
      {
       "name": "stdout",
       "output_type": "stream",
       "stream": "stdout",
       "text": [
        "ipdb> \n"
       ]
      },
      {
       "output_type": "stream",
       "stream": "stdout",
       "text": [
        "> \u001b[1;32m/home/roberto/Documents/motus/cmac.py\u001b[0m(79)\u001b[0;36mrecode\u001b[1;34m()\u001b[0m\n",
        "\u001b[1;32m     78 \u001b[1;33m        \u001b[1;32mfor\u001b[0m \u001b[0mi\u001b[0m \u001b[1;32min\u001b[0m \u001b[0mrange\u001b[0m\u001b[1;33m(\u001b[0m\u001b[0mself\u001b[0m\u001b[1;33m.\u001b[0m\u001b[0mnum_active_cells\u001b[0m\u001b[1;33m)\u001b[0m\u001b[1;33m:\u001b[0m\u001b[1;33m\u001b[0m\u001b[0m\n",
        "\u001b[0m\u001b[1;32m---> 79 \u001b[1;33m            \u001b[0mtemp\u001b[0m \u001b[1;33m=\u001b[0m \u001b[0msens_values\u001b[0m\u001b[1;33m[\u001b[0m\u001b[1;33m:\u001b[0m\u001b[1;33m,\u001b[0m \u001b[0mi\u001b[0m\u001b[1;33m]\u001b[0m\u001b[1;33m.\u001b[0m\u001b[0mtolist\u001b[0m\u001b[1;33m(\u001b[0m\u001b[1;33m)\u001b[0m\u001b[1;33m\u001b[0m\u001b[0m\n",
        "\u001b[0m\u001b[1;32m     80 \u001b[1;33m            \u001b[0maddress\u001b[0m \u001b[1;33m=\u001b[0m \u001b[0mself\u001b[0m\u001b[1;33m.\u001b[0m\u001b[0mget_address\u001b[0m\u001b[1;33m(\u001b[0m\u001b[0mtemp\u001b[0m\u001b[1;33m)\u001b[0m\u001b[1;33m\u001b[0m\u001b[0m\n",
        "\u001b[0m\n"
       ]
      },
      {
       "name": "stdout",
       "output_type": "stream",
       "stream": "stdout",
       "text": [
        "ipdb> \n"
       ]
      },
      {
       "output_type": "stream",
       "stream": "stdout",
       "text": [
        "> \u001b[1;32m/home/roberto/Documents/motus/cmac.py\u001b[0m(80)\u001b[0;36mrecode\u001b[1;34m()\u001b[0m\n",
        "\u001b[1;32m     79 \u001b[1;33m            \u001b[0mtemp\u001b[0m \u001b[1;33m=\u001b[0m \u001b[0msens_values\u001b[0m\u001b[1;33m[\u001b[0m\u001b[1;33m:\u001b[0m\u001b[1;33m,\u001b[0m \u001b[0mi\u001b[0m\u001b[1;33m]\u001b[0m\u001b[1;33m.\u001b[0m\u001b[0mtolist\u001b[0m\u001b[1;33m(\u001b[0m\u001b[1;33m)\u001b[0m\u001b[1;33m\u001b[0m\u001b[0m\n",
        "\u001b[0m\u001b[1;32m---> 80 \u001b[1;33m            \u001b[0maddress\u001b[0m \u001b[1;33m=\u001b[0m \u001b[0mself\u001b[0m\u001b[1;33m.\u001b[0m\u001b[0mget_address\u001b[0m\u001b[1;33m(\u001b[0m\u001b[0mtemp\u001b[0m\u001b[1;33m)\u001b[0m\u001b[1;33m\u001b[0m\u001b[0m\n",
        "\u001b[0m\u001b[1;32m     81 \u001b[1;33m            \u001b[0mrecode_vector\u001b[0m\u001b[1;33m.\u001b[0m\u001b[0mappend\u001b[0m\u001b[1;33m(\u001b[0m\u001b[0maddress\u001b[0m\u001b[1;33m)\u001b[0m\u001b[1;33m\u001b[0m\u001b[0m\n",
        "\u001b[0m\n"
       ]
      },
      {
       "name": "stdout",
       "output_type": "stream",
       "stream": "stdout",
       "text": [
        "ipdb> \n"
       ]
      },
      {
       "output_type": "stream",
       "stream": "stdout",
       "text": [
        "> \u001b[1;32m/home/roberto/Documents/motus/cmac.py\u001b[0m(81)\u001b[0;36mrecode\u001b[1;34m()\u001b[0m\n",
        "\u001b[1;32m     80 \u001b[1;33m            \u001b[0maddress\u001b[0m \u001b[1;33m=\u001b[0m \u001b[0mself\u001b[0m\u001b[1;33m.\u001b[0m\u001b[0mget_address\u001b[0m\u001b[1;33m(\u001b[0m\u001b[0mtemp\u001b[0m\u001b[1;33m)\u001b[0m\u001b[1;33m\u001b[0m\u001b[0m\n",
        "\u001b[0m\u001b[1;32m---> 81 \u001b[1;33m            \u001b[0mrecode_vector\u001b[0m\u001b[1;33m.\u001b[0m\u001b[0mappend\u001b[0m\u001b[1;33m(\u001b[0m\u001b[0maddress\u001b[0m\u001b[1;33m)\u001b[0m\u001b[1;33m\u001b[0m\u001b[0m\n",
        "\u001b[0m\u001b[1;32m     82 \u001b[1;33m        \u001b[1;32mreturn\u001b[0m \u001b[0mrecode_vector\u001b[0m\u001b[1;33m\u001b[0m\u001b[0m\n",
        "\u001b[0m\n"
       ]
      },
      {
       "name": "stdout",
       "output_type": "stream",
       "stream": "stdout",
       "text": [
        "ipdb> \n"
       ]
      },
      {
       "output_type": "stream",
       "stream": "stdout",
       "text": [
        "> \u001b[1;32m/home/roberto/Documents/motus/cmac.py\u001b[0m(78)\u001b[0;36mrecode\u001b[1;34m()\u001b[0m\n",
        "\u001b[1;32m     77 \u001b[1;33m        \u001b[0msens_values\u001b[0m \u001b[1;33m=\u001b[0m \u001b[0marray\u001b[0m\u001b[1;33m(\u001b[0m\u001b[0msens_values\u001b[0m\u001b[1;33m,\u001b[0m \u001b[0mdtype\u001b[0m\u001b[1;33m=\u001b[0m\u001b[0mint64\u001b[0m\u001b[1;33m)\u001b[0m\u001b[1;33m\u001b[0m\u001b[0m\n",
        "\u001b[0m\u001b[1;32m---> 78 \u001b[1;33m        \u001b[1;32mfor\u001b[0m \u001b[0mi\u001b[0m \u001b[1;32min\u001b[0m \u001b[0mrange\u001b[0m\u001b[1;33m(\u001b[0m\u001b[0mself\u001b[0m\u001b[1;33m.\u001b[0m\u001b[0mnum_active_cells\u001b[0m\u001b[1;33m)\u001b[0m\u001b[1;33m:\u001b[0m\u001b[1;33m\u001b[0m\u001b[0m\n",
        "\u001b[0m\u001b[1;32m     79 \u001b[1;33m            \u001b[0mtemp\u001b[0m \u001b[1;33m=\u001b[0m \u001b[0msens_values\u001b[0m\u001b[1;33m[\u001b[0m\u001b[1;33m:\u001b[0m\u001b[1;33m,\u001b[0m \u001b[0mi\u001b[0m\u001b[1;33m]\u001b[0m\u001b[1;33m.\u001b[0m\u001b[0mtolist\u001b[0m\u001b[1;33m(\u001b[0m\u001b[1;33m)\u001b[0m\u001b[1;33m\u001b[0m\u001b[0m\n",
        "\u001b[0m\n"
       ]
      },
      {
       "name": "stdout",
       "output_type": "stream",
       "stream": "stdout",
       "text": [
        "ipdb> \n"
       ]
      },
      {
       "output_type": "stream",
       "stream": "stdout",
       "text": [
        "> \u001b[1;32m/home/roberto/Documents/motus/cmac.py\u001b[0m(79)\u001b[0;36mrecode\u001b[1;34m()\u001b[0m\n",
        "\u001b[1;32m     78 \u001b[1;33m        \u001b[1;32mfor\u001b[0m \u001b[0mi\u001b[0m \u001b[1;32min\u001b[0m \u001b[0mrange\u001b[0m\u001b[1;33m(\u001b[0m\u001b[0mself\u001b[0m\u001b[1;33m.\u001b[0m\u001b[0mnum_active_cells\u001b[0m\u001b[1;33m)\u001b[0m\u001b[1;33m:\u001b[0m\u001b[1;33m\u001b[0m\u001b[0m\n",
        "\u001b[0m\u001b[1;32m---> 79 \u001b[1;33m            \u001b[0mtemp\u001b[0m \u001b[1;33m=\u001b[0m \u001b[0msens_values\u001b[0m\u001b[1;33m[\u001b[0m\u001b[1;33m:\u001b[0m\u001b[1;33m,\u001b[0m \u001b[0mi\u001b[0m\u001b[1;33m]\u001b[0m\u001b[1;33m.\u001b[0m\u001b[0mtolist\u001b[0m\u001b[1;33m(\u001b[0m\u001b[1;33m)\u001b[0m\u001b[1;33m\u001b[0m\u001b[0m\n",
        "\u001b[0m\u001b[1;32m     80 \u001b[1;33m            \u001b[0maddress\u001b[0m \u001b[1;33m=\u001b[0m \u001b[0mself\u001b[0m\u001b[1;33m.\u001b[0m\u001b[0mget_address\u001b[0m\u001b[1;33m(\u001b[0m\u001b[0mtemp\u001b[0m\u001b[1;33m)\u001b[0m\u001b[1;33m\u001b[0m\u001b[0m\n",
        "\u001b[0m\n"
       ]
      },
      {
       "name": "stdout",
       "output_type": "stream",
       "stream": "stdout",
       "text": [
        "ipdb> \n"
       ]
      },
      {
       "output_type": "stream",
       "stream": "stdout",
       "text": [
        "> \u001b[1;32m/home/roberto/Documents/motus/cmac.py\u001b[0m(80)\u001b[0;36mrecode\u001b[1;34m()\u001b[0m\n",
        "\u001b[1;32m     79 \u001b[1;33m            \u001b[0mtemp\u001b[0m \u001b[1;33m=\u001b[0m \u001b[0msens_values\u001b[0m\u001b[1;33m[\u001b[0m\u001b[1;33m:\u001b[0m\u001b[1;33m,\u001b[0m \u001b[0mi\u001b[0m\u001b[1;33m]\u001b[0m\u001b[1;33m.\u001b[0m\u001b[0mtolist\u001b[0m\u001b[1;33m(\u001b[0m\u001b[1;33m)\u001b[0m\u001b[1;33m\u001b[0m\u001b[0m\n",
        "\u001b[0m\u001b[1;32m---> 80 \u001b[1;33m            \u001b[0maddress\u001b[0m \u001b[1;33m=\u001b[0m \u001b[0mself\u001b[0m\u001b[1;33m.\u001b[0m\u001b[0mget_address\u001b[0m\u001b[1;33m(\u001b[0m\u001b[0mtemp\u001b[0m\u001b[1;33m)\u001b[0m\u001b[1;33m\u001b[0m\u001b[0m\n",
        "\u001b[0m\u001b[1;32m     81 \u001b[1;33m            \u001b[0mrecode_vector\u001b[0m\u001b[1;33m.\u001b[0m\u001b[0mappend\u001b[0m\u001b[1;33m(\u001b[0m\u001b[0maddress\u001b[0m\u001b[1;33m)\u001b[0m\u001b[1;33m\u001b[0m\u001b[0m\n",
        "\u001b[0m\n"
       ]
      },
      {
       "name": "stdout",
       "output_type": "stream",
       "stream": "stdout",
       "text": [
        "ipdb> \n"
       ]
      },
      {
       "output_type": "stream",
       "stream": "stdout",
       "text": [
        "> \u001b[1;32m/home/roberto/Documents/motus/cmac.py\u001b[0m(81)\u001b[0;36mrecode\u001b[1;34m()\u001b[0m\n",
        "\u001b[1;32m     80 \u001b[1;33m            \u001b[0maddress\u001b[0m \u001b[1;33m=\u001b[0m \u001b[0mself\u001b[0m\u001b[1;33m.\u001b[0m\u001b[0mget_address\u001b[0m\u001b[1;33m(\u001b[0m\u001b[0mtemp\u001b[0m\u001b[1;33m)\u001b[0m\u001b[1;33m\u001b[0m\u001b[0m\n",
        "\u001b[0m\u001b[1;32m---> 81 \u001b[1;33m            \u001b[0mrecode_vector\u001b[0m\u001b[1;33m.\u001b[0m\u001b[0mappend\u001b[0m\u001b[1;33m(\u001b[0m\u001b[0maddress\u001b[0m\u001b[1;33m)\u001b[0m\u001b[1;33m\u001b[0m\u001b[0m\n",
        "\u001b[0m\u001b[1;32m     82 \u001b[1;33m        \u001b[1;32mreturn\u001b[0m \u001b[0mrecode_vector\u001b[0m\u001b[1;33m\u001b[0m\u001b[0m\n",
        "\u001b[0m\n"
       ]
      },
      {
       "name": "stdout",
       "output_type": "stream",
       "stream": "stdout",
       "text": [
        "ipdb> \n"
       ]
      },
      {
       "output_type": "stream",
       "stream": "stdout",
       "text": [
        "> \u001b[1;32m/home/roberto/Documents/motus/cmac.py\u001b[0m(78)\u001b[0;36mrecode\u001b[1;34m()\u001b[0m\n",
        "\u001b[1;32m     77 \u001b[1;33m        \u001b[0msens_values\u001b[0m \u001b[1;33m=\u001b[0m \u001b[0marray\u001b[0m\u001b[1;33m(\u001b[0m\u001b[0msens_values\u001b[0m\u001b[1;33m,\u001b[0m \u001b[0mdtype\u001b[0m\u001b[1;33m=\u001b[0m\u001b[0mint64\u001b[0m\u001b[1;33m)\u001b[0m\u001b[1;33m\u001b[0m\u001b[0m\n",
        "\u001b[0m\u001b[1;32m---> 78 \u001b[1;33m        \u001b[1;32mfor\u001b[0m \u001b[0mi\u001b[0m \u001b[1;32min\u001b[0m \u001b[0mrange\u001b[0m\u001b[1;33m(\u001b[0m\u001b[0mself\u001b[0m\u001b[1;33m.\u001b[0m\u001b[0mnum_active_cells\u001b[0m\u001b[1;33m)\u001b[0m\u001b[1;33m:\u001b[0m\u001b[1;33m\u001b[0m\u001b[0m\n",
        "\u001b[0m\u001b[1;32m     79 \u001b[1;33m            \u001b[0mtemp\u001b[0m \u001b[1;33m=\u001b[0m \u001b[0msens_values\u001b[0m\u001b[1;33m[\u001b[0m\u001b[1;33m:\u001b[0m\u001b[1;33m,\u001b[0m \u001b[0mi\u001b[0m\u001b[1;33m]\u001b[0m\u001b[1;33m.\u001b[0m\u001b[0mtolist\u001b[0m\u001b[1;33m(\u001b[0m\u001b[1;33m)\u001b[0m\u001b[1;33m\u001b[0m\u001b[0m\n",
        "\u001b[0m\n"
       ]
      },
      {
       "name": "stdout",
       "output_type": "stream",
       "stream": "stdout",
       "text": [
        "ipdb> \n"
       ]
      },
      {
       "output_type": "stream",
       "stream": "stdout",
       "text": [
        "> \u001b[1;32m/home/roberto/Documents/motus/cmac.py\u001b[0m(79)\u001b[0;36mrecode\u001b[1;34m()\u001b[0m\n",
        "\u001b[1;32m     78 \u001b[1;33m        \u001b[1;32mfor\u001b[0m \u001b[0mi\u001b[0m \u001b[1;32min\u001b[0m \u001b[0mrange\u001b[0m\u001b[1;33m(\u001b[0m\u001b[0mself\u001b[0m\u001b[1;33m.\u001b[0m\u001b[0mnum_active_cells\u001b[0m\u001b[1;33m)\u001b[0m\u001b[1;33m:\u001b[0m\u001b[1;33m\u001b[0m\u001b[0m\n",
        "\u001b[0m\u001b[1;32m---> 79 \u001b[1;33m            \u001b[0mtemp\u001b[0m \u001b[1;33m=\u001b[0m \u001b[0msens_values\u001b[0m\u001b[1;33m[\u001b[0m\u001b[1;33m:\u001b[0m\u001b[1;33m,\u001b[0m \u001b[0mi\u001b[0m\u001b[1;33m]\u001b[0m\u001b[1;33m.\u001b[0m\u001b[0mtolist\u001b[0m\u001b[1;33m(\u001b[0m\u001b[1;33m)\u001b[0m\u001b[1;33m\u001b[0m\u001b[0m\n",
        "\u001b[0m\u001b[1;32m     80 \u001b[1;33m            \u001b[0maddress\u001b[0m \u001b[1;33m=\u001b[0m \u001b[0mself\u001b[0m\u001b[1;33m.\u001b[0m\u001b[0mget_address\u001b[0m\u001b[1;33m(\u001b[0m\u001b[0mtemp\u001b[0m\u001b[1;33m)\u001b[0m\u001b[1;33m\u001b[0m\u001b[0m\n",
        "\u001b[0m\n"
       ]
      },
      {
       "name": "stdout",
       "output_type": "stream",
       "stream": "stdout",
       "text": [
        "ipdb> \n"
       ]
      },
      {
       "output_type": "stream",
       "stream": "stdout",
       "text": [
        "> \u001b[1;32m/home/roberto/Documents/motus/cmac.py\u001b[0m(80)\u001b[0;36mrecode\u001b[1;34m()\u001b[0m\n",
        "\u001b[1;32m     79 \u001b[1;33m            \u001b[0mtemp\u001b[0m \u001b[1;33m=\u001b[0m \u001b[0msens_values\u001b[0m\u001b[1;33m[\u001b[0m\u001b[1;33m:\u001b[0m\u001b[1;33m,\u001b[0m \u001b[0mi\u001b[0m\u001b[1;33m]\u001b[0m\u001b[1;33m.\u001b[0m\u001b[0mtolist\u001b[0m\u001b[1;33m(\u001b[0m\u001b[1;33m)\u001b[0m\u001b[1;33m\u001b[0m\u001b[0m\n",
        "\u001b[0m\u001b[1;32m---> 80 \u001b[1;33m            \u001b[0maddress\u001b[0m \u001b[1;33m=\u001b[0m \u001b[0mself\u001b[0m\u001b[1;33m.\u001b[0m\u001b[0mget_address\u001b[0m\u001b[1;33m(\u001b[0m\u001b[0mtemp\u001b[0m\u001b[1;33m)\u001b[0m\u001b[1;33m\u001b[0m\u001b[0m\n",
        "\u001b[0m\u001b[1;32m     81 \u001b[1;33m            \u001b[0mrecode_vector\u001b[0m\u001b[1;33m.\u001b[0m\u001b[0mappend\u001b[0m\u001b[1;33m(\u001b[0m\u001b[0maddress\u001b[0m\u001b[1;33m)\u001b[0m\u001b[1;33m\u001b[0m\u001b[0m\n",
        "\u001b[0m\n"
       ]
      },
      {
       "name": "stdout",
       "output_type": "stream",
       "stream": "stdout",
       "text": [
        "ipdb> \n"
       ]
      },
      {
       "output_type": "stream",
       "stream": "stdout",
       "text": [
        "> \u001b[1;32m/home/roberto/Documents/motus/cmac.py\u001b[0m(81)\u001b[0;36mrecode\u001b[1;34m()\u001b[0m\n",
        "\u001b[1;32m     80 \u001b[1;33m            \u001b[0maddress\u001b[0m \u001b[1;33m=\u001b[0m \u001b[0mself\u001b[0m\u001b[1;33m.\u001b[0m\u001b[0mget_address\u001b[0m\u001b[1;33m(\u001b[0m\u001b[0mtemp\u001b[0m\u001b[1;33m)\u001b[0m\u001b[1;33m\u001b[0m\u001b[0m\n",
        "\u001b[0m\u001b[1;32m---> 81 \u001b[1;33m            \u001b[0mrecode_vector\u001b[0m\u001b[1;33m.\u001b[0m\u001b[0mappend\u001b[0m\u001b[1;33m(\u001b[0m\u001b[0maddress\u001b[0m\u001b[1;33m)\u001b[0m\u001b[1;33m\u001b[0m\u001b[0m\n",
        "\u001b[0m\u001b[1;32m     82 \u001b[1;33m        \u001b[1;32mreturn\u001b[0m \u001b[0mrecode_vector\u001b[0m\u001b[1;33m\u001b[0m\u001b[0m\n",
        "\u001b[0m\n"
       ]
      },
      {
       "name": "stdout",
       "output_type": "stream",
       "stream": "stdout",
       "text": [
        "ipdb> \n"
       ]
      },
      {
       "output_type": "stream",
       "stream": "stdout",
       "text": [
        "> \u001b[1;32m/home/roberto/Documents/motus/cmac.py\u001b[0m(78)\u001b[0;36mrecode\u001b[1;34m()\u001b[0m\n",
        "\u001b[1;32m     77 \u001b[1;33m        \u001b[0msens_values\u001b[0m \u001b[1;33m=\u001b[0m \u001b[0marray\u001b[0m\u001b[1;33m(\u001b[0m\u001b[0msens_values\u001b[0m\u001b[1;33m,\u001b[0m \u001b[0mdtype\u001b[0m\u001b[1;33m=\u001b[0m\u001b[0mint64\u001b[0m\u001b[1;33m)\u001b[0m\u001b[1;33m\u001b[0m\u001b[0m\n",
        "\u001b[0m\u001b[1;32m---> 78 \u001b[1;33m        \u001b[1;32mfor\u001b[0m \u001b[0mi\u001b[0m \u001b[1;32min\u001b[0m \u001b[0mrange\u001b[0m\u001b[1;33m(\u001b[0m\u001b[0mself\u001b[0m\u001b[1;33m.\u001b[0m\u001b[0mnum_active_cells\u001b[0m\u001b[1;33m)\u001b[0m\u001b[1;33m:\u001b[0m\u001b[1;33m\u001b[0m\u001b[0m\n",
        "\u001b[0m\u001b[1;32m     79 \u001b[1;33m            \u001b[0mtemp\u001b[0m \u001b[1;33m=\u001b[0m \u001b[0msens_values\u001b[0m\u001b[1;33m[\u001b[0m\u001b[1;33m:\u001b[0m\u001b[1;33m,\u001b[0m \u001b[0mi\u001b[0m\u001b[1;33m]\u001b[0m\u001b[1;33m.\u001b[0m\u001b[0mtolist\u001b[0m\u001b[1;33m(\u001b[0m\u001b[1;33m)\u001b[0m\u001b[1;33m\u001b[0m\u001b[0m\n",
        "\u001b[0m\n"
       ]
      },
      {
       "name": "stdout",
       "output_type": "stream",
       "stream": "stdout",
       "text": [
        "ipdb> i\n"
       ]
      },
      {
       "output_type": "stream",
       "stream": "stdout",
       "text": [
        "3\n"
       ]
      },
      {
       "name": "stdout",
       "output_type": "stream",
       "stream": "stdout",
       "text": [
        "ipdb> n\n"
       ]
      },
      {
       "output_type": "stream",
       "stream": "stdout",
       "text": [
        "> \u001b[1;32m/home/roberto/Documents/motus/cmac.py\u001b[0m(82)\u001b[0;36mrecode\u001b[1;34m()\u001b[0m\n",
        "\u001b[1;32m     81 \u001b[1;33m            \u001b[0mrecode_vector\u001b[0m\u001b[1;33m.\u001b[0m\u001b[0mappend\u001b[0m\u001b[1;33m(\u001b[0m\u001b[0maddress\u001b[0m\u001b[1;33m)\u001b[0m\u001b[1;33m\u001b[0m\u001b[0m\n",
        "\u001b[0m\u001b[1;32m---> 82 \u001b[1;33m        \u001b[1;32mreturn\u001b[0m \u001b[0mrecode_vector\u001b[0m\u001b[1;33m\u001b[0m\u001b[0m\n",
        "\u001b[0m\u001b[1;32m     83 \u001b[1;33m\u001b[1;33m\u001b[0m\u001b[0m\n",
        "\u001b[0m\n"
       ]
      },
      {
       "name": "stdout",
       "output_type": "stream",
       "stream": "stdout",
       "text": [
        "ipdb> \n"
       ]
      },
      {
       "output_type": "stream",
       "stream": "stdout",
       "text": [
        "--Return--\n",
        "[41212, 10913, 21014, 31115]\n",
        "> \u001b[1;32m/home/roberto/Documents/motus/cmac.py\u001b[0m(82)\u001b[0;36mrecode\u001b[1;34m()\u001b[0m\n",
        "\u001b[1;32m     81 \u001b[1;33m            \u001b[0mrecode_vector\u001b[0m\u001b[1;33m.\u001b[0m\u001b[0mappend\u001b[0m\u001b[1;33m(\u001b[0m\u001b[0maddress\u001b[0m\u001b[1;33m)\u001b[0m\u001b[1;33m\u001b[0m\u001b[0m\n",
        "\u001b[0m\u001b[1;32m---> 82 \u001b[1;33m        \u001b[1;32mreturn\u001b[0m \u001b[0mrecode_vector\u001b[0m\u001b[1;33m\u001b[0m\u001b[0m\n",
        "\u001b[0m\u001b[1;32m     83 \u001b[1;33m\u001b[1;33m\u001b[0m\u001b[0m\n",
        "\u001b[0m\n"
       ]
      },
      {
       "name": "stdout",
       "output_type": "stream",
       "stream": "stdout",
       "text": [
        "ipdb> recode_vector\n"
       ]
      },
      {
       "output_type": "stream",
       "stream": "stdout",
       "text": [
        "[41212, 10913, 21014, 31115]\n"
       ]
      },
      {
       "name": "stdout",
       "output_type": "stream",
       "stream": "stdout",
       "text": [
        "ipdb> self.sensory_cell_configs[i].mapping[index]\n"
       ]
      },
      {
       "output_type": "stream",
       "stream": "stdout",
       "text": [
        "*** IndexError: list index out of range\n"
       ]
      },
      {
       "name": "stdout",
       "output_type": "stream",
       "stream": "stdout",
       "text": [
        "ipdb> (max(self._cmac.activation_table.keys()) == 41212)\n"
       ]
      },
      {
       "output_type": "stream",
       "stream": "stdout",
       "text": [
        "*** AttributeError: 'CMAC' object has no attribute '_cmac'\n"
       ]
      },
      {
       "name": "stdout",
       "output_type": "stream",
       "stream": "stdout",
       "text": [
        "ipdb> (max(self.activation_table.keys()) == 41212)\n"
       ]
      },
      {
       "output_type": "stream",
       "stream": "stdout",
       "text": [
        "True\n"
       ]
      },
      {
       "name": "stdout",
       "output_type": "stream",
       "stream": "stdout",
       "text": [
        "ipdb> max(self.activation_table[205] == 0)\n"
       ]
      },
      {
       "output_type": "stream",
       "stream": "stdout",
       "text": [
        "*** KeyError: 205\n"
       ]
      },
      {
       "name": "stdout",
       "output_type": "stream",
       "stream": "stdout",
       "text": [
        "ipdb> self.hyperspace\n"
       ]
      },
      {
       "output_type": "stream",
       "stream": "stdout",
       "text": [
        "*** AttributeError: 'CMAC' object has no attribute 'hyperspace'\n"
       ]
      },
      {
       "name": "stdout",
       "output_type": "stream",
       "stream": "stdout",
       "text": [
        "ipdb> self.hyperplane\n"
       ]
      },
      {
       "output_type": "stream",
       "stream": "stdout",
       "text": [
        "[[[0, 1, 2, 3], [0, 1, 2, 3], [0, 1, 2, 3]], [[0, 1, 2, 3], [0, 1, 2, 3], [4, 1, 2, 3]], [[0, 1, 2, 3], [4, 1, 2, 3], [0, 1, 2, 3]], [[0, 1, 2, 3], [4, 1, 2, 3], [4, 1, 2, 3]], [[0, 1, 2, 3], [4, 5, 2, 3], [0, 1, 2, 3]], [[0, 1, 2, 3], [4, 5, 2, 3], [4, 1, 2, 3]], [[0, 1, 2, 3], [4, 5, 6, 3], [0, 1, 2, 3]], [[0, 1, 2, 3], [4, 5, 6, 3], [4, 1, 2, 3]], [[0, 1, 2, 3], [4, 5, 6, 7], [0, 1, 2, 3]], [[0, 1, 2, 3], [4, 5, 6, 7], [4, 1, 2, 3]], [[0, 1, 2, 3], [8, 5, 6, 7], [0, 1, 2, 3]], [[0, 1, 2, 3], [8, 5, 6, 7], [4, 1, 2, 3]], [[0, 1, 2, 3], [8, 9, 6, 7], [0, 1, 2, 3]], [[0, 1, 2, 3], [8, 9, 6, 7], [4, 1, 2, 3]], [[0, 1, 2, 3], [8, 9, 10, 7], [0, 1, 2, 3]], [[0, 1, 2, 3], [8, 9, 10, 7], [4, 1, 2, 3]], [[0, 1, 2, 3], [8, 9, 10, 11], [0, 1, 2, 3]], [[0, 1, 2, 3], [8, 9, 10, 11], [4, 1, 2, 3]], [[0, 1, 2, 3], [12, 9, 10, 11], [0, 1, 2, 3]], [[0, 1, 2, 3], [12, 9, 10, 11], [4, 1, 2, 3]], [[4, 1, 2, 3], [0, 1, 2, 3], [0, 1, 2, 3]], [[4, 1, 2, 3], [0, 1, 2, 3], [4, 1, 2, 3]], [[4, 1, 2, 3], [4, 1, 2, 3], [0, 1, 2, 3]], [[4, 1, 2, 3], [4, 1, 2, 3], [4, 1, 2, 3]], [[4, 1, 2, 3], [4, 5, 2, 3], [0, 1, 2, 3]], [[4, 1, 2, 3], [4, 5, 2, 3], [4, 1, 2, 3]], [[4, 1, 2, 3], [4, 5, 6, 3], [0, 1, 2, 3]], [[4, 1, 2, 3], [4, 5, 6, 3], [4, 1, 2, 3]], [[4, 1, 2, 3], [4, 5, 6, 7], [0, 1, 2, 3]], [[4, 1, 2, 3], [4, 5, 6, 7], [4, 1, 2, 3]], [[4, 1, 2, 3], [8, 5, 6, 7], [0, 1, 2, 3]], [[4, 1, 2, 3], [8, 5, 6, 7], [4, 1, 2, 3]], [[4, 1, 2, 3], [8, 9, 6, 7], [0, 1, 2, 3]], [[4, 1, 2, 3], [8, 9, 6, 7], [4, 1, 2, 3]], [[4, 1, 2, 3], [8, 9, 10, 7], [0, 1, 2, 3]], [[4, 1, 2, 3], [8, 9, 10, 7], [4, 1, 2, 3]], [[4, 1, 2, 3], [8, 9, 10, 11], [0, 1, 2, 3]], [[4, 1, 2, 3], [8, 9, 10, 11], [4, 1, 2, 3]], [[4, 1, 2, 3], [12, 9, 10, 11], [0, 1, 2, 3]], [[4, 1, 2, 3], [12, 9, 10, 11], [4, 1, 2, 3]], [[4, 5, 2, 3], [0, 1, 2, 3], [0, 1, 2, 3]], [[4, 5, 2, 3], [0, 1, 2, 3], [4, 1, 2, 3]], [[4, 5, 2, 3], [4, 1, 2, 3], [0, 1, 2, 3]], [[4, 5, 2, 3], [4, 1, 2, 3], [4, 1, 2, 3]], [[4, 5, 2, 3], [4, 5, 2, 3], [0, 1, 2, 3]], [[4, 5, 2, 3], [4, 5, 2, 3], [4, 1, 2, 3]], [[4, 5, 2, 3], [4, 5, 6, 3], [0, 1, 2, 3]], [[4, 5, 2, 3], [4, 5, 6, 3], [4, 1, 2, 3]], [[4, 5, 2, 3], [4, 5, 6, 7], [0, 1, 2, 3]], [[4, 5, 2, 3], [4, 5, 6, 7], [4, 1, 2, 3]], [[4, 5, 2, 3], [8, 5, 6, 7], [0, 1, 2, 3]], [[4, 5, 2, 3], [8, 5, 6, 7], [4, 1, 2, 3]], [[4, 5, 2, 3], [8, 9, 6, 7], [0, 1, 2, 3]], [[4, 5, 2, 3], [8, 9, 6, 7], [4, 1, 2, 3]], [[4, 5, 2, 3], [8, 9, 10, 7], [0, 1, 2, 3]], [[4, 5, 2, 3], [8, 9, 10, 7], [4, 1, 2, 3]], [[4, 5, 2, 3], [8, 9, 10, 11], [0, 1, 2, 3]], [[4, 5, 2, 3], [8, 9, 10, 11], [4, 1, 2, 3]], [[4, 5, 2, 3], [12, 9, 10, 11], [0, 1, 2, 3]], [[4, 5, 2, 3], [12, 9, 10, 11], [4, 1, 2, 3]], [[4, 5, 6, 3], [0, 1, 2, 3], [0, 1, 2, 3]], [[4, 5, 6, 3], [0, 1, 2, 3], [4, 1, 2, 3]], [[4, 5, 6, 3], [4, 1, 2, 3], [0, 1, 2, 3]], [[4, 5, 6, 3], [4, 1, 2, 3], [4, 1, 2, 3]], [[4, 5, 6, 3], [4, 5, 2, 3], [0, 1, 2, 3]], [[4, 5, 6, 3], [4, 5, 2, 3], [4, 1, 2, 3]], [[4, 5, 6, 3], [4, 5, 6, 3], [0, 1, 2, 3]], [[4, 5, 6, 3], [4, 5, 6, 3], [4, 1, 2, 3]], [[4, 5, 6, 3], [4, 5, 6, 7], [0, 1, 2, 3]], [[4, 5, 6, 3], [4, 5, 6, 7], [4, 1, 2, 3]], [[4, 5, 6, 3], [8, 5, 6, 7], [0, 1, 2, 3]], [[4, 5, 6, 3], [8, 5, 6, 7], [4, 1, 2, 3]], [[4, 5, 6, 3], [8, 9, 6, 7], [0, 1, 2, 3]], [[4, 5, 6, 3], [8, 9, 6, 7], [4, 1, 2, 3]], [[4, 5, 6, 3], [8, 9, 10, 7], [0, 1, 2, 3]], [[4, 5, 6, 3], [8, 9, 10, 7], [4, 1, 2, 3]], [[4, 5, 6, 3], [8, 9, 10, 11], [0, 1, 2, 3]], [[4, 5, 6, 3], [8, 9, 10, 11], [4, 1, 2, 3]], [[4, 5, 6, 3], [12, 9, 10, 11], [0, 1, 2, 3]], [[4, 5, 6, 3], [12, 9, 10, 11], [4, 1, 2, 3]], [[4, 5, 6, 7], [0, 1, 2, 3], [0, 1, 2, 3]], [[4, 5, 6, 7], [0, 1, 2, 3], [4, 1, 2, 3]], [[4, 5, 6, 7], [4, 1, 2, 3], [0, 1, 2, 3]], [[4, 5, 6, 7], [4, 1, 2, 3], [4, 1, 2, 3]], [[4, 5, 6, 7], [4, 5, 2, 3], [0, 1, 2, 3]], [[4, 5, 6, 7], [4, 5, 2, 3], [4, 1, 2, 3]], [[4, 5, 6, 7], [4, 5, 6, 3], [0, 1, 2, 3]], [[4, 5, 6, 7], [4, 5, 6, 3], [4, 1, 2, 3]], [[4, 5, 6, 7], [4, 5, 6, 7], [0, 1, 2, 3]], [[4, 5, 6, 7], [4, 5, 6, 7], [4, 1, 2, 3]], [[4, 5, 6, 7], [8, 5, 6, 7], [0, 1, 2, 3]], [[4, 5, 6, 7], [8, 5, 6, 7], [4, 1, 2, 3]], [[4, 5, 6, 7], [8, 9, 6, 7], [0, 1, 2, 3]], [[4, 5, 6, 7], [8, 9, 6, 7], [4, 1, 2, 3]], [[4, 5, 6, 7], [8, 9, 10, 7], [0, 1, 2, 3]], [[4, 5, 6, 7], [8, 9, 10, 7], [4, 1, 2, 3]], [[4, 5, 6, 7], [8, 9, 10, 11], [0, 1, 2, 3]], [[4, 5, 6, 7], [8, 9, 10, 11], [4, 1, 2, 3]], [[4, 5, 6, 7], [12, 9, 10, 11], [0, 1, 2, 3]], [[4, 5, 6, 7], [12, 9, 10, 11], [4, 1, 2, 3]], [[8, 5, 6, 7], [0, 1, 2, 3], [0, 1, 2, 3]], [[8, 5, 6, 7], [0, 1, 2, 3], [4, 1, 2, 3]], [[8, 5, 6, 7], [4, 1, 2, 3], [0, 1, 2, 3]], [[8, 5, 6, 7], [4, 1, 2, 3], [4, 1, 2, 3]], [[8, 5, 6, 7], [4, 5, 2, 3], [0, 1, 2, 3]], [[8, 5, 6, 7], [4, 5, 2, 3], [4, 1, 2, 3]], [[8, 5, 6, 7], [4, 5, 6, 3], [0, 1, 2, 3]], [[8, 5, 6, 7], [4, 5, 6, 3], [4, 1, 2, 3]], [[8, 5, 6, 7], [4, 5, 6, 7], [0, 1, 2, 3]], [[8, 5, 6, 7], [4, 5, 6, 7], [4, 1, 2, 3]], [[8, 5, 6, 7], [8, 5, 6, 7], [0, 1, 2, 3]], [[8, 5, 6, 7], [8, 5, 6, 7], [4, 1, 2, 3]], [[8, 5, 6, 7], [8, 9, 6, 7], [0, 1, 2, 3]], [[8, 5, 6, 7], [8, 9, 6, 7], [4, 1, 2, 3]], [[8, 5, 6, 7], [8, 9, 10, 7], [0, 1, 2, 3]], [[8, 5, 6, 7], [8, 9, 10, 7], [4, 1, 2, 3]], [[8, 5, 6, 7], [8, 9, 10, 11], [0, 1, 2, 3]], [[8, 5, 6, 7], [8, 9, 10, 11], [4, 1, 2, 3]], [[8, 5, 6, 7], [12, 9, 10, 11], [0, 1, 2, 3]], [[8, 5, 6, 7], [12, 9, 10, 11], [4, 1, 2, 3]], [[8, 9, 6, 7], [0, 1, 2, 3], [0, 1, 2, 3]], [[8, 9, 6, 7], [0, 1, 2, 3], [4, 1, 2, 3]], [[8, 9, 6, 7], [4, 1, 2, 3], [0, 1, 2, 3]], [[8, 9, 6, 7], [4, 1, 2, 3], [4, 1, 2, 3]], [[8, 9, 6, 7], [4, 5, 2, 3], [0, 1, 2, 3]], [[8, 9, 6, 7], [4, 5, 2, 3], [4, 1, 2, 3]], [[8, 9, 6, 7], [4, 5, 6, 3], [0, 1, 2, 3]], [[8, 9, 6, 7], [4, 5, 6, 3], [4, 1, 2, 3]], [[8, 9, 6, 7], [4, 5, 6, 7], [0, 1, 2, 3]], [[8, 9, 6, 7], [4, 5, 6, 7], [4, 1, 2, 3]], [[8, 9, 6, 7], [8, 5, 6, 7], [0, 1, 2, 3]], [[8, 9, 6, 7], [8, 5, 6, 7], [4, 1, 2, 3]], [[8, 9, 6, 7], [8, 9, 6, 7], [0, 1, 2, 3]], [[8, 9, 6, 7], [8, 9, 6, 7], [4, 1, 2, 3]], [[8, 9, 6, 7], [8, 9, 10, 7], [0, 1, 2, 3]], [[8, 9, 6, 7], [8, 9, 10, 7], [4, 1, 2, 3]], [[8, 9, 6, 7], [8, 9, 10, 11], [0, 1, 2, 3]], [[8, 9, 6, 7], [8, 9, 10, 11], [4, 1, 2, 3]], [[8, 9, 6, 7], [12, 9, 10, 11], [0, 1, 2, 3]], [[8, 9, 6, 7], [12, 9, 10, 11], [4, 1, 2, 3]], [[8, 9, 10, 7], [0, 1, 2, 3], [0, 1, 2, 3]], [[8, 9, 10, 7], [0, 1, 2, 3], [4, 1, 2, 3]], [[8, 9, 10, 7], [4, 1, 2, 3], [0, 1, 2, 3]], [[8, 9, 10, 7], [4, 1, 2, 3], [4, 1, 2, 3]], [[8, 9, 10, 7], [4, 5, 2, 3], [0, 1, 2, 3]], [[8, 9, 10, 7], [4, 5, 2, 3], [4, 1, 2, 3]], [[8, 9, 10, 7], [4, 5, 6, 3], [0, 1, 2, 3]], [[8, 9, 10, 7], [4, 5, 6, 3], [4, 1, 2, 3]], [[8, 9, 10, 7], [4, 5, 6, 7], [0, 1, 2, 3]], [[8, 9, 10, 7], [4, 5, 6, 7], [4, 1, 2, 3]], [[8, 9, 10, 7], [8, 5, 6, 7], [0, 1, 2, 3]], [[8, 9, 10, 7], [8, 5, 6, 7], [4, 1, 2, 3]], [[8, 9, 10, 7], [8, 9, 6, 7], [0, 1, 2, 3]], [[8, 9, 10, 7], [8, 9, 6, 7], [4, 1, 2, 3]], [[8, 9, 10, 7], [8, 9, 10, 7], [0, 1, 2, 3]], [[8, 9, 10, 7], [8, 9, 10, 7], [4, 1, 2, 3]], [[8, 9, 10, 7], [8, 9, 10, 11], [0, 1, 2, 3]], [[8, 9, 10, 7], [8, 9, 10, 11], [4, 1, 2, 3]], [[8, 9, 10, 7], [12, 9, 10, 11], [0, 1, 2, 3]], [[8, 9, 10, 7], [12, 9, 10, 11], [4, 1, 2, 3]], [[8, 9, 10, 11], [0, 1, 2, 3], [0, 1, 2, 3]], [[8, 9, 10, 11], [0, 1, 2, 3], [4, 1, 2, 3]], [[8, 9, 10, 11], [4, 1, 2, 3], [0, 1, 2, 3]], [[8, 9, 10, 11], [4, 1, 2, 3], [4, 1, 2, 3]], [[8, 9, 10, 11], [4, 5, 2, 3], [0, 1, 2, 3]], [[8, 9, 10, 11], [4, 5, 2, 3], [4, 1, 2, 3]], [[8, 9, 10, 11], [4, 5, 6, 3], [0, 1, 2, 3]], [[8, 9, 10, 11], [4, 5, 6, 3], [4, 1, 2, 3]], [[8, 9, 10, 11], [4, 5, 6, 7], [0, 1, 2, 3]], [[8, 9, 10, 11], [4, 5, 6, 7], [4, 1, 2, 3]], [[8, 9, 10, 11], [8, 5, 6, 7], [0, 1, 2, 3]], [[8, 9, 10, 11], [8, 5, 6, 7], [4, 1, 2, 3]], [[8, 9, 10, 11], [8, 9, 6, 7], [0, 1, 2, 3]], [[8, 9, 10, 11], [8, 9, 6, 7], [4, 1, 2, 3]], [[8, 9, 10, 11], [8, 9, 10, 7], [0, 1, 2, 3]], [[8, 9, 10, 11], [8, 9, 10, 7], [4, 1, 2, 3]], [[8, 9, 10, 11], [8, 9, 10, 11], [0, 1, 2, 3]], [[8, 9, 10, 11], [8, 9, 10, 11], [4, 1, 2, 3]], [[8, 9, 10, 11], [12, 9, 10, 11], [0, 1, 2, 3]], [[8, 9, 10, 11], [12, 9, 10, 11], [4, 1, 2, 3]], [[12, 9, 10, 11], [0, 1, 2, 3], [0, 1, 2, 3]], [[12, 9, 10, 11], [0, 1, 2, 3], [4, 1, 2, 3]], [[12, 9, 10, 11], [4, 1, 2, 3], [0, 1, 2, 3]], [[12, 9, 10, 11], [4, 1, 2, 3], [4, 1, 2, 3]], [[12, 9, 10, 11], [4, 5, 2, 3], [0, 1, 2, 3]], [[12, 9, 10, 11], [4, 5, 2, 3], [4, 1, 2, 3]], [[12, 9, 10, 11], [4, 5, 6, 3], [0, 1, 2, 3]], [[12, 9, 10, 11], [4, 5, 6, 3], [4, 1, 2, 3]], [[12, 9, 10, 11], [4, 5, 6, 7], [0, 1, 2, 3]], [[12, 9, 10, 11], [4, 5, 6, 7], [4, 1, 2, 3]], [[12, 9, 10, 11], [8, 5, 6, 7], [0, 1, 2, 3]], [[12, 9, 10, 11], [8, 5, 6, 7], [4, 1, 2, 3]], [[12, 9, 10, 11], [8, 9, 6, 7], [0, 1, 2, 3]], [[12, 9, 10, 11], [8, 9, 6, 7], [4, 1, 2, 3]], [[12, 9, 10, 11], [8, 9, 10, 7], [0, 1, 2, 3]], [[12, 9, 10, 11], [8, 9, 10, 7], [4, 1, 2, 3]], [[12, 9, 10, 11], [8, 9, 10, 11], [0, 1, 2, 3]], [[12, 9, 10, 11], [8, 9, 10, 11], [4, 1, 2, 3]], [[12, 9, 10, 11], [12, 9, 10, 11], [0, 1, 2, 3]], [[12, 9, 10, 11], [12, 9, 10, 11], [4, 1, 2, 3]], [[12, 13, 10, 11], [0, 1, 2, 3], [0, 1, 2, 3]], [[12, 13, 10, 11], [0, 1, 2, 3], [4, 1, 2, 3]], [[12, 13, 10, 11], [4, 1, 2, 3], [0, 1, 2, 3]], [[12, 13, 10, 11], [4, 1, 2, 3], [4, 1, 2, 3]], [[12, 13, 10, 11], [4, 5, 2, 3], [0, 1, 2, 3]], [[12, 13, 10, 11], [4, 5, 2, 3], [4, 1, 2, 3]], [[12, 13, 10, 11], [4, 5, 6, 3], [0, 1, 2, 3]], [[12, 13, 10, 11], [4, 5, 6, 3], [4, 1, 2, 3]], [[12, 13, 10, 11], [4, 5, 6, 7], [0, 1, 2, 3]], [[12, 13, 10, 11], [4, 5, 6, 7], [4, 1, 2, 3]], [[12, 13, 10, 11], [8, 5, 6, 7], [0, 1, 2, 3]], [[12, 13, 10, 11], [8, 5, 6, 7], [4, 1, 2, 3]], [[12, 13, 10, 11], [8, 9, 6, 7], [0, 1, 2, 3]], [[12, 13, 10, 11], [8, 9, 6, 7], [4, 1, 2, 3]], [[12, 13, 10, 11], [8, 9, 10, 7], [0, 1, 2, 3]], [[12, 13, 10, 11], [8, 9, 10, 7], [4, 1, 2, 3]], [[12, 13, 10, 11], [8, 9, 10, 11], [0, 1, 2, 3]], [[12, 13, 10, 11], [8, 9, 10, 11], [4, 1, 2, 3]], [[12, 13, 10, 11], [12, 9, 10, 11], [0, 1, 2, 3]], [[12, 13, 10, 11], [12, 9, 10, 11], [4, 1, 2, 3]], [[12, 13, 14, 11], [0, 1, 2, 3], [0, 1, 2, 3]], [[12, 13, 14, 11], [0, 1, 2, 3], [4, 1, 2, 3]], [[12, 13, 14, 11], [4, 1, 2, 3], [0, 1, 2, 3]], [[12, 13, 14, 11], [4, 1, 2, 3], [4, 1, 2, 3]], [[12, 13, 14, 11], [4, 5, 2, 3], [0, 1, 2, 3]], [[12, 13, 14, 11], [4, 5, 2, 3], [4, 1, 2, 3]], [[12, 13, 14, 11], [4, 5, 6, 3], [0, 1, 2, 3]], [[12, 13, 14, 11], [4, 5, 6, 3], [4, 1, 2, 3]], [[12, 13, 14, 11], [4, 5, 6, 7], [0, 1, 2, 3]], [[12, 13, 14, 11], [4, 5, 6, 7], [4, 1, 2, 3]], [[12, 13, 14, 11], [8, 5, 6, 7], [0, 1, 2, 3]], [[12, 13, 14, 11], [8, 5, 6, 7], [4, 1, 2, 3]], [[12, 13, 14, 11], [8, 9, 6, 7], [0, 1, 2, 3]], [[12, 13, 14, 11], [8, 9, 6, 7], [4, 1, 2, 3]], [[12, 13, 14, 11], [8, 9, 10, 7], [0, 1, 2, 3]], [[12, 13, 14, 11], [8, 9, 10, 7], [4, 1, 2, 3]], [[12, 13, 14, 11], [8, 9, 10, 11], [0, 1, 2, 3]], [[12, 13, 14, 11], [8, 9, 10, 11], [4, 1, 2, 3]], [[12, 13, 14, 11], [12, 9, 10, 11], [0, 1, 2, 3]], [[12, 13, 14, 11], [12, 9, 10, 11], [4, 1, 2, 3]], [[12, 13, 14, 15], [0, 1, 2, 3], [0, 1, 2, 3]], [[12, 13, 14, 15], [0, 1, 2, 3], [4, 1, 2, 3]], [[12, 13, 14, 15], [4, 1, 2, 3], [0, 1, 2, 3]], [[12, 13, 14, 15], [4, 1, 2, 3], [4, 1, 2, 3]], [[12, 13, 14, 15], [4, 5, 2, 3], [0, 1, 2, 3]], [[12, 13, 14, 15], [4, 5, 2, 3], [4, 1, 2, 3]], [[12, 13, 14, 15], [4, 5, 6, 3], [0, 1, 2, 3]], [[12, 13, 14, 15], [4, 5, 6, 3], [4, 1, 2, 3]], [[12, 13, 14, 15], [4, 5, 6, 7], [0, 1, 2, 3]], [[12, 13, 14, 15], [4, 5, 6, 7], [4, 1, 2, 3]], [[12, 13, 14, 15], [8, 5, 6, 7], [0, 1, 2, 3]], [[12, 13, 14, 15], [8, 5, 6, 7], [4, 1, 2, 3]], [[12, 13, 14, 15], [8, 9, 6, 7], [0, 1, 2, 3]], [[12, 13, 14, 15], [8, 9, 6, 7], [4, 1, 2, 3]], [[12, 13, 14, 15], [8, 9, 10, 7], [0, 1, 2, 3]], [[12, 13, 14, 15], [8, 9, 10, 7], [4, 1, 2, 3]], [[12, 13, 14, 15], [8, 9, 10, 11], [0, 1, 2, 3]], [[12, 13, 14, 15], [8, 9, 10, 11], [4, 1, 2, 3]], [[12, 13, 14, 15], [12, 9, 10, 11], [0, 1, 2, 3]], [[12, 13, 14, 15], [12, 9, 10, 11], [4, 1, 2, 3]]]\n"
       ]
      },
      {
       "name": "stdout",
       "output_type": "stream",
       "stream": "stdout",
       "text": [
        "ipdb> q\n"
       ]
      },
      {
       "output_type": "stream",
       "stream": "stderr",
       "text": [
        "E"
       ]
      },
      {
       "output_type": "stream",
       "stream": "stderr",
       "text": [
        "."
       ]
      },
      {
       "output_type": "stream",
       "stream": "stderr",
       "text": [
        "."
       ]
      },
      {
       "output_type": "stream",
       "stream": "stderr",
       "text": [
        "."
       ]
      },
      {
       "output_type": "stream",
       "stream": "stderr",
       "text": [
        "."
       ]
      },
      {
       "output_type": "stream",
       "stream": "stderr",
       "text": [
        "."
       ]
      },
      {
       "output_type": "stream",
       "stream": "stderr",
       "text": [
        "."
       ]
      },
      {
       "output_type": "stream",
       "stream": "stderr",
       "text": [
        "."
       ]
      },
      {
       "output_type": "stream",
       "stream": "stderr",
       "text": [
        "."
       ]
      },
      {
       "output_type": "stream",
       "stream": "stderr",
       "text": [
        "\n",
        "======================================================================\n",
        "ERROR: test_make_hyperplane (__main__.TestCmac)\n",
        "----------------------------------------------------------------------\n",
        "Traceback (most recent call last):\n",
        "  File \"/home/roberto/Documents/motus/test_cmac.py\", line 79, in test_make_hyperplane\n",
        "    self.assertTrue(max(self._cmac.activation_table.keys()) == 41212)\n",
        "  File \"/home/roberto/Documents/motus/cmac.py\", line 82, in recode\n",
        "    return recode_vector\n",
        "  File \"/usr/lib/python2.7/bdb.py\", line 53, in trace_dispatch\n",
        "    return self.dispatch_return(frame, arg)\n",
        "  File \"/usr/lib/python2.7/bdb.py\", line 91, in dispatch_return\n",
        "    if self.quitting: raise BdbQuit\n",
        "BdbQuit\n",
        "\n",
        "----------------------------------------------------------------------\n",
        "Ran 10 tests in 1191.469s\n",
        "\n",
        "FAILED (errors=1)\n"
       ]
      },
      {
       "ename": "SystemExit",
       "evalue": "True",
       "output_type": "pyerr",
       "traceback": [
        "\u001b[1;31m---------------------------------------------------------------------------\u001b[0m\n\u001b[1;31mSystemExit\u001b[0m                                Traceback (most recent call last)",
        "\u001b[1;32m/usr/lib/python2.7/runpy.pyc\u001b[0m in \u001b[0;36mrun_module\u001b[1;34m(mod_name, init_globals, run_name, alter_sys)\u001b[0m\n\u001b[0;32m    174\u001b[0m     \u001b[1;32mif\u001b[0m \u001b[0malter_sys\u001b[0m\u001b[1;33m:\u001b[0m\u001b[1;33m\u001b[0m\u001b[0m\n\u001b[0;32m    175\u001b[0m         return _run_module_code(code, init_globals, run_name,\n\u001b[1;32m--> 176\u001b[1;33m                                 fname, loader, pkg_name)\n\u001b[0m\u001b[0;32m    177\u001b[0m     \u001b[1;32melse\u001b[0m\u001b[1;33m:\u001b[0m\u001b[1;33m\u001b[0m\u001b[0m\n\u001b[0;32m    178\u001b[0m         \u001b[1;31m# Leave the sys module alone\u001b[0m\u001b[1;33m\u001b[0m\u001b[1;33m\u001b[0m\u001b[0m\n",
        "\u001b[1;32m/usr/lib/python2.7/runpy.pyc\u001b[0m in \u001b[0;36m_run_module_code\u001b[1;34m(code, init_globals, mod_name, mod_fname, mod_loader, pkg_name)\u001b[0m\n\u001b[0;32m     80\u001b[0m         \u001b[0mmod_globals\u001b[0m \u001b[1;33m=\u001b[0m \u001b[0mtemp_module\u001b[0m\u001b[1;33m.\u001b[0m\u001b[0mmodule\u001b[0m\u001b[1;33m.\u001b[0m\u001b[0m__dict__\u001b[0m\u001b[1;33m\u001b[0m\u001b[0m\n\u001b[0;32m     81\u001b[0m         _run_code(code, mod_globals, init_globals,\n\u001b[1;32m---> 82\u001b[1;33m                   mod_name, mod_fname, mod_loader, pkg_name)\n\u001b[0m\u001b[0;32m     83\u001b[0m     \u001b[1;31m# Copy the globals of the temporary module, as they\u001b[0m\u001b[1;33m\u001b[0m\u001b[1;33m\u001b[0m\u001b[0m\n\u001b[0;32m     84\u001b[0m     \u001b[1;31m# may be cleared when the temporary module goes away\u001b[0m\u001b[1;33m\u001b[0m\u001b[1;33m\u001b[0m\u001b[0m\n",
        "\u001b[1;32m/usr/lib/python2.7/runpy.pyc\u001b[0m in \u001b[0;36m_run_code\u001b[1;34m(code, run_globals, init_globals, mod_name, mod_fname, mod_loader, pkg_name)\u001b[0m\n\u001b[0;32m     70\u001b[0m                        \u001b[0m__loader__\u001b[0m \u001b[1;33m=\u001b[0m \u001b[0mmod_loader\u001b[0m\u001b[1;33m,\u001b[0m\u001b[1;33m\u001b[0m\u001b[0m\n\u001b[0;32m     71\u001b[0m                        __package__ = pkg_name)\n\u001b[1;32m---> 72\u001b[1;33m     \u001b[1;32mexec\u001b[0m \u001b[0mcode\u001b[0m \u001b[1;32min\u001b[0m \u001b[0mrun_globals\u001b[0m\u001b[1;33m\u001b[0m\u001b[0m\n\u001b[0m\u001b[0;32m     73\u001b[0m     \u001b[1;32mreturn\u001b[0m \u001b[0mrun_globals\u001b[0m\u001b[1;33m\u001b[0m\u001b[0m\n\u001b[0;32m     74\u001b[0m \u001b[1;33m\u001b[0m\u001b[0m\n",
        "\u001b[1;32m/home/roberto/Documents/motus/test_cmac.py\u001b[0m in \u001b[0;36m<module>\u001b[1;34m()\u001b[0m\n\u001b[0;32m    105\u001b[0m \u001b[1;32mif\u001b[0m \u001b[0m__name__\u001b[0m \u001b[1;33m==\u001b[0m \u001b[1;34m'__main__'\u001b[0m\u001b[1;33m:\u001b[0m\u001b[1;33m\u001b[0m\u001b[0m\n\u001b[0;32m    106\u001b[0m     \u001b[0munittest\u001b[0m\u001b[1;33m.\u001b[0m\u001b[0mmain\u001b[0m\u001b[1;33m(\u001b[0m\u001b[1;33m)\u001b[0m\u001b[1;33m\u001b[0m\u001b[0m\n",
        "\u001b[1;32m/usr/lib/python2.7/unittest/main.pyc\u001b[0m in \u001b[0;36m__init__\u001b[1;34m(self, module, defaultTest, argv, testRunner, testLoader, exit, verbosity, failfast, catchbreak, buffer)\u001b[0m\n\u001b[0;32m     93\u001b[0m         \u001b[0mself\u001b[0m\u001b[1;33m.\u001b[0m\u001b[0mprogName\u001b[0m \u001b[1;33m=\u001b[0m \u001b[0mos\u001b[0m\u001b[1;33m.\u001b[0m\u001b[0mpath\u001b[0m\u001b[1;33m.\u001b[0m\u001b[0mbasename\u001b[0m\u001b[1;33m(\u001b[0m\u001b[0margv\u001b[0m\u001b[1;33m[\u001b[0m\u001b[1;36m0\u001b[0m\u001b[1;33m]\u001b[0m\u001b[1;33m)\u001b[0m\u001b[1;33m\u001b[0m\u001b[0m\n\u001b[0;32m     94\u001b[0m         \u001b[0mself\u001b[0m\u001b[1;33m.\u001b[0m\u001b[0mparseArgs\u001b[0m\u001b[1;33m(\u001b[0m\u001b[0margv\u001b[0m\u001b[1;33m)\u001b[0m\u001b[1;33m\u001b[0m\u001b[0m\n\u001b[1;32m---> 95\u001b[1;33m         \u001b[0mself\u001b[0m\u001b[1;33m.\u001b[0m\u001b[0mrunTests\u001b[0m\u001b[1;33m(\u001b[0m\u001b[1;33m)\u001b[0m\u001b[1;33m\u001b[0m\u001b[0m\n\u001b[0m\u001b[0;32m     96\u001b[0m \u001b[1;33m\u001b[0m\u001b[0m\n\u001b[0;32m     97\u001b[0m     \u001b[1;32mdef\u001b[0m \u001b[0musageExit\u001b[0m\u001b[1;33m(\u001b[0m\u001b[0mself\u001b[0m\u001b[1;33m,\u001b[0m \u001b[0mmsg\u001b[0m\u001b[1;33m=\u001b[0m\u001b[0mNone\u001b[0m\u001b[1;33m)\u001b[0m\u001b[1;33m:\u001b[0m\u001b[1;33m\u001b[0m\u001b[0m\n",
        "\u001b[1;32m/usr/lib/python2.7/unittest/main.pyc\u001b[0m in \u001b[0;36mrunTests\u001b[1;34m(self)\u001b[0m\n\u001b[0;32m    232\u001b[0m         \u001b[0mself\u001b[0m\u001b[1;33m.\u001b[0m\u001b[0mresult\u001b[0m \u001b[1;33m=\u001b[0m \u001b[0mtestRunner\u001b[0m\u001b[1;33m.\u001b[0m\u001b[0mrun\u001b[0m\u001b[1;33m(\u001b[0m\u001b[0mself\u001b[0m\u001b[1;33m.\u001b[0m\u001b[0mtest\u001b[0m\u001b[1;33m)\u001b[0m\u001b[1;33m\u001b[0m\u001b[0m\n\u001b[0;32m    233\u001b[0m         \u001b[1;32mif\u001b[0m \u001b[0mself\u001b[0m\u001b[1;33m.\u001b[0m\u001b[0mexit\u001b[0m\u001b[1;33m:\u001b[0m\u001b[1;33m\u001b[0m\u001b[0m\n\u001b[1;32m--> 234\u001b[1;33m             \u001b[0msys\u001b[0m\u001b[1;33m.\u001b[0m\u001b[0mexit\u001b[0m\u001b[1;33m(\u001b[0m\u001b[1;32mnot\u001b[0m \u001b[0mself\u001b[0m\u001b[1;33m.\u001b[0m\u001b[0mresult\u001b[0m\u001b[1;33m.\u001b[0m\u001b[0mwasSuccessful\u001b[0m\u001b[1;33m(\u001b[0m\u001b[1;33m)\u001b[0m\u001b[1;33m)\u001b[0m\u001b[1;33m\u001b[0m\u001b[0m\n\u001b[0m\u001b[0;32m    235\u001b[0m \u001b[1;33m\u001b[0m\u001b[0m\n\u001b[0;32m    236\u001b[0m \u001b[0mmain\u001b[0m \u001b[1;33m=\u001b[0m \u001b[0mTestProgram\u001b[0m\u001b[1;33m\u001b[0m\u001b[0m\n",
        "\u001b[1;31mSystemExit\u001b[0m: True"
       ]
      },
      {
       "output_type": "stream",
       "stream": "stderr",
       "text": [
        "WARNING: Unknown failure executing module: <test_cmac>\n"
       ]
      }
     ],
     "prompt_number": 54
    },
    {
     "cell_type": "code",
     "collapsed": false,
     "input": [
      "size(int)"
     ],
     "language": "python",
     "metadata": {},
     "outputs": [
      {
       "ename": "NameError",
       "evalue": "name 'size' is not defined",
       "output_type": "pyerr",
       "traceback": [
        "\u001b[1;31m---------------------------------------------------------------------------\u001b[0m\n\u001b[1;31mNameError\u001b[0m                                 Traceback (most recent call last)",
        "\u001b[1;32m<ipython-input-12-9be3a0e2fe0e>\u001b[0m in \u001b[0;36m<module>\u001b[1;34m()\u001b[0m\n\u001b[1;32m----> 1\u001b[1;33m \u001b[0msize\u001b[0m\u001b[1;33m(\u001b[0m\u001b[0mint\u001b[0m\u001b[1;33m)\u001b[0m\u001b[1;33m\u001b[0m\u001b[0m\n\u001b[0m",
        "\u001b[1;31mNameError\u001b[0m: name 'size' is not defined"
       ]
      }
     ],
     "prompt_number": 12
    },
    {
     "cell_type": "code",
     "collapsed": false,
     "input": [
      "len(int)"
     ],
     "language": "python",
     "metadata": {},
     "outputs": [
      {
       "ename": "TypeError",
       "evalue": "object of type 'type' has no len()",
       "output_type": "pyerr",
       "traceback": [
        "\u001b[1;31m---------------------------------------------------------------------------\u001b[0m\n\u001b[1;31mTypeError\u001b[0m                                 Traceback (most recent call last)",
        "\u001b[1;32m<ipython-input-13-b6f341d1d7ca>\u001b[0m in \u001b[0;36m<module>\u001b[1;34m()\u001b[0m\n\u001b[1;32m----> 1\u001b[1;33m \u001b[0mlen\u001b[0m\u001b[1;33m(\u001b[0m\u001b[0mint\u001b[0m\u001b[1;33m)\u001b[0m\u001b[1;33m\u001b[0m\u001b[0m\n\u001b[0m",
        "\u001b[1;31mTypeError\u001b[0m: object of type 'type' has no len()"
       ]
      }
     ],
     "prompt_number": 13
    },
    {
     "cell_type": "code",
     "collapsed": false,
     "input": [
      "type(int)"
     ],
     "language": "python",
     "metadata": {},
     "outputs": [
      {
       "metadata": {},
       "output_type": "pyout",
       "prompt_number": 14,
       "text": [
        "type"
       ]
      }
     ],
     "prompt_number": 14
    },
    {
     "cell_type": "code",
     "collapsed": false,
     "input": [
      "from numpy import *\n"
     ],
     "language": "python",
     "metadata": {},
     "outputs": [],
     "prompt_number": 15
    },
    {
     "cell_type": "code",
     "collapsed": false,
     "input": [
      "floor(log10(13422)+1)"
     ],
     "language": "python",
     "metadata": {},
     "outputs": [
      {
       "metadata": {},
       "output_type": "pyout",
       "prompt_number": 18,
       "text": [
        "5.0"
       ]
      }
     ],
     "prompt_number": 18
    },
    {
     "cell_type": "code",
     "collapsed": false,
     "input": [
      "a = arange(4)"
     ],
     "language": "python",
     "metadata": {},
     "outputs": [
      {
       "output_type": "stream",
       "stream": "stderr",
       "text": [
        "[autoreload of cmac failed: Traceback (most recent call last):\n",
        "  File \"/usr/local/lib/python2.7/dist-packages/IPython/extensions/autoreload.py\", line 247, in check\n",
        "    superreload(m, reload, self.old_objects)\n",
        "  File \"/home/roberto/Documents/motus/cmac.py\", line 76\n",
        "    for i in range(len(config.mapping_address)):\n",
        "                                               ^\n",
        "IndentationError: unindent does not match any outer indentation level\n",
        "]\n"
       ]
      },
      {
       "ename": "NameError",
       "evalue": "name 'arange' is not defined",
       "output_type": "pyerr",
       "traceback": [
        "\u001b[1;31m---------------------------------------------------------------------------\u001b[0m\n\u001b[1;31mNameError\u001b[0m                                 Traceback (most recent call last)",
        "\u001b[1;32m<ipython-input-14-11fa84c0f777>\u001b[0m in \u001b[0;36m<module>\u001b[1;34m()\u001b[0m\n\u001b[1;32m----> 1\u001b[1;33m \u001b[0ma\u001b[0m \u001b[1;33m=\u001b[0m \u001b[0marange\u001b[0m\u001b[1;33m(\u001b[0m\u001b[1;36m4\u001b[0m\u001b[1;33m)\u001b[0m\u001b[1;33m\u001b[0m\u001b[0m\n\u001b[0m",
        "\u001b[1;31mNameError\u001b[0m: name 'arange' is not defined"
       ]
      }
     ],
     "prompt_number": 14
    },
    {
     "cell_type": "code",
     "collapsed": false,
     "input": [
      "from numpy import *"
     ],
     "language": "python",
     "metadata": {},
     "outputs": [],
     "prompt_number": 41
    },
    {
     "cell_type": "code",
     "collapsed": false,
     "input": [
      "a = {0:0, 1:1, 2:2}"
     ],
     "language": "python",
     "metadata": {},
     "outputs": [],
     "prompt_number": 42
    },
    {
     "cell_type": "code",
     "collapsed": false,
     "input": [
      "a[0]"
     ],
     "language": "python",
     "metadata": {},
     "outputs": [
      {
       "metadata": {},
       "output_type": "pyout",
       "prompt_number": 44,
       "text": [
        "0"
       ]
      }
     ],
     "prompt_number": 44
    },
    {
     "cell_type": "code",
     "collapsed": false,
     "input": [],
     "language": "python",
     "metadata": {},
     "outputs": []
    }
   ],
   "metadata": {}
  }
 ]
}