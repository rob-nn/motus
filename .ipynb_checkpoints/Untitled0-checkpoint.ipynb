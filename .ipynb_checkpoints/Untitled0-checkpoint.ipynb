{
 "metadata": {
  "name": "",
  "signature": "sha256:e4807ff5a4ad9317a5a580ac3d307f500967fb1f3c5a33cbf316b1380f9fe736"
 },
 "nbformat": 3,
 "nbformat_minor": 0,
 "worksheets": []
}